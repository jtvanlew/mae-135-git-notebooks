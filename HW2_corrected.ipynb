{
 "metadata": {
  "name": "HW2_corrected.ipynb"
 },
 "nbformat": 3,
 "nbformat_minor": 0,
 "worksheets": [
  {
   "cells": [
    {
     "cell_type": "heading",
     "level": 1,
     "metadata": {},
     "source": [
      "MAE 135 - Fundamentals of Nuclear Science"
     ]
    },
    {
     "cell_type": "heading",
     "level": 2,
     "metadata": {},
     "source": [
      "Homework 2"
     ]
    },
    {
     "cell_type": "markdown",
     "metadata": {},
     "source": [
      "Jon Van Lew\n",
      "\n",
      "UCLA\n",
      "\n",
      "2013, Fall"
     ]
    },
    {
     "cell_type": "heading",
     "level": 3,
     "metadata": {},
     "source": [
      "Problem 1 (4.3)"
     ]
    },
    {
     "cell_type": "markdown",
     "metadata": {},
     "source": [
      "Calculating the binding energy per nucleon and the neutron separation energy for $_8^{16}$O and $_8^{17}$O. First, the binding energy is found from the energetics of the mass defect between the nucleus as a whole (neglecting the contribution of binding energy of electrons) and the sum of constituent parts:"
     ]
    },
    {
     "cell_type": "code",
     "collapsed": false,
     "input": [
      "u2mev = 931.5016\n",
      "Mp = 1.007276466812 #u\n",
      "Mn = 1.00866491600 #u\n",
      "ZO = 8\n",
      "N16 = 8\n",
      "N17 = 9\n",
      "O16 = 15.994 #u\n",
      "O17 = 16.9991315  #u\n",
      "BE16 = (8*Mp + 8*Mn - O16)*u2mev/(16) #MeV/nucleon\n",
      "BE17 = (8*Mp + 9*Mn - O17)*u2mev/17 #MeV/nucleon\n",
      "print 'Binding energy of oxygen-16: ' + str(BE16) + ' MeV/nucleon'\n",
      "print 'Binding energy of oxygen-17: ' + str(BE17) + ' MeV/nucleon'"
     ],
     "language": "python",
     "metadata": {},
     "outputs": [
      {
       "output_type": "stream",
       "stream": "stdout",
       "text": [
        "Binding energy of oxygen-16: 7.7740248978 MeV/nucleon\n",
        "Binding energy of oxygen-17: 7.51034006013 MeV/nucleon\n"
       ]
      }
     ],
     "prompt_number": 2
    },
    {
     "cell_type": "markdown",
     "metadata": {},
     "source": [
      "Then the neutron separation energy is found from a similar analysis of a neutron incident on the nucleus..."
     ]
    },
    {
     "cell_type": "code",
     "collapsed": false,
     "input": [
      "O15 = 15.0030656*u\n",
      "N15 = 7\n",
      "BE15 = (ZO*Mp + N15*Mn - O15)*c**2*1/1.6021892e-13 #MeV\n",
      "SE16 = BE16*(N16 + ZO) - BE15 #MeV\n",
      "SE17 = BE17*(N17 + ZO)-BE16*(N16 + Z) #MeV\n",
      "print 'Neutron separation energy of oxygen-16: ' + str(SE16) + ' MeV'\n",
      "print 'Neutron separation energy of oxygen-17: ' + str(SE17) + ' MeV'"
     ],
     "language": "python",
     "metadata": {},
     "outputs": [
      {
       "output_type": "stream",
       "stream": "stdout",
       "text": [
        "Neutron separation energy of oxygen-16: 15.6777873066 MeV\n",
        "Neutron separation energy of oxygen-17: 4.12986851597 MeV\n"
       ]
      }
     ],
     "prompt_number": 28
    },
    {
     "cell_type": "heading",
     "level": 3,
     "metadata": {},
     "source": [
      "Problem 2 (4.5)"
     ]
    },
    {
     "cell_type": "markdown",
     "metadata": {},
     "source": [
      "For a stable nuclide of $_{26}^{56}$Fe, to remove a single neutron we first find the binding energy of $^{56}$Fe and $^{55}$Fe. The differences is then the nuetron separation energy. That is, the energy to remove a single neutron."
     ]
    },
    {
     "cell_type": "code",
     "collapsed": false,
     "input": [
      "ZFe = 26\n",
      "N56 = 56 - ZFe\n",
      "N55 = 55 - ZFe\n",
      "Fe56 = 55.9349375\n",
      "Fe55 = 54.9382934\n",
      "BE56 = (ZFe*Mp + N56*Mn - Fe56)*u2mev #MeV\n",
      "BE55 = (ZFe*Mp + N55*Mn - Fe55)*u2mev #MeV\n",
      "SE56 = BE56-BE55 #MeV\n",
      "print 'Neutron separation energy of iron-56: ' + str(SE56) + ' MeV'"
     ],
     "language": "python",
     "metadata": {},
     "outputs": [
      {
       "output_type": "stream",
       "stream": "stdout",
       "text": [
        "Neutron separation energy of iron-56: 11.1974093373 MeV\n"
       ]
      }
     ],
     "prompt_number": 6
    },
    {
     "cell_type": "markdown",
     "metadata": {},
     "source": [
      "To find the energy to remove a proton, we must find the binding energy of an element $_{25}^{55}$X, or $^{55}$Mn"
     ]
    },
    {
     "cell_type": "code",
     "collapsed": false,
     "input": [
      "Mn55 = 54.9380451\n",
      "MH = 1.00782503207\n",
      "SEp = (Mn55 + MH - Fe56)*u2mev #MeV\n",
      "print 'Proton separation energy of iron-56: ' + str(SEp) + ' MeV'"
     ],
     "language": "python",
     "metadata": {},
     "outputs": [
      {
       "output_type": "stream",
       "stream": "stdout",
       "text": [
        "Proton separation energy of iron-56: 10.1837642654 MeV\n"
       ]
      }
     ],
     "prompt_number": 14
    },
    {
     "cell_type": "markdown",
     "metadata": {},
     "source": [
      "To completely dismantle the nucleus is simply the binding energy of the nucleus, or"
     ]
    },
    {
     "cell_type": "code",
     "collapsed": false,
     "input": [
      "print str(BE56) + ' MeV'"
     ],
     "language": "python",
     "metadata": {},
     "outputs": [
      {
       "output_type": "stream",
       "stream": "stdout",
       "text": [
        "478.979685156 MeV\n"
       ]
      }
     ],
     "prompt_number": 36
    },
    {
     "cell_type": "markdown",
     "metadata": {},
     "source": [
      "Lastly, in the study of this iron isotope, we can fission it symmetrically into two identical nuclides of $_{13}^{28}$Al, which would require the following amount of energy..."
     ]
    },
    {
     "cell_type": "code",
     "collapsed": false,
     "input": [
      "FissionEnergy = (2*27.98191031*u - Fe56)*c**2*1/1.6021892e-13 #MeV\n",
      "print 'Energy of equal fission: ' + str(FissionEnergy) + ' MeV'"
     ],
     "language": "python",
     "metadata": {},
     "outputs": [
      {
       "output_type": "stream",
       "stream": "stdout",
       "text": [
        "Energy of equal fission: 26.9046732042 MeV\n"
       ]
      }
     ],
     "prompt_number": 37
    },
    {
     "cell_type": "heading",
     "level": 3,
     "metadata": {},
     "source": [
      "Problem 3 (4.7)"
     ]
    },
    {
     "cell_type": "markdown",
     "metadata": {},
     "source": [
      "Reactants energy [edit: remember to change the proton into a hydrogen when doing reaction energy. When balancing protons and charge, you typically end up with pairing the proton with an electron to get a hydrogen]:"
     ]
    },
    {
     "cell_type": "code",
     "collapsed": false,
     "input": [
      "Be9 = 9.0121822\n",
      "Qin = (MH + Be9)*u2mev #MeV"
     ],
     "language": "python",
     "metadata": {},
     "outputs": [],
     "prompt_number": 18
    },
    {
     "cell_type": "markdown",
     "metadata": {},
     "source": [
      "Energy of reaction to products (a):"
     ]
    },
    {
     "cell_type": "code",
     "collapsed": false,
     "input": [
      "B10 = 10.0129370\n",
      "Qaout = (B10)*u2mev #MeV\n",
      "Qa = Qin - Qaout #MeV\n",
      "print 'Energy output: ' + str(Qa) + ' MeV'"
     ],
     "language": "python",
     "metadata": {},
     "outputs": [
      {
       "output_type": "stream",
       "stream": "stdout",
       "text": [
        "Energy output: 6.58593248558 MeV\n"
       ]
      }
     ],
     "prompt_number": 20
    },
    {
     "cell_type": "markdown",
     "metadata": {},
     "source": [
      "Energy of reaction to products (b):"
     ]
    },
    {
     "cell_type": "code",
     "collapsed": false,
     "input": [
      "B9 = 9.0133288\n",
      "Qbout = (B9 + Mn)*u2mev #MeV\n",
      "Qb = Qin - Qbout #MeV\n",
      "print 'Energy output: ' + str(Qb) + ' MeV'"
     ],
     "language": "python",
     "metadata": {},
     "outputs": [
      {
       "output_type": "stream",
       "stream": "stdout",
       "text": [
        "Energy output: -1.85041295917 MeV\n"
       ]
      }
     ],
     "prompt_number": 22
    },
    {
     "cell_type": "markdown",
     "metadata": {},
     "source": [
      "Energy of reaction to products (c):"
     ]
    },
    {
     "cell_type": "code",
     "collapsed": false,
     "input": [
      "print 'Energy output: ' + str(Qin-Qin) + ' MeV'"
     ],
     "language": "python",
     "metadata": {},
     "outputs": [
      {
       "output_type": "stream",
       "stream": "stdout",
       "text": [
        "Energy output: 0.0 MeV\n"
       ]
      }
     ],
     "prompt_number": 44
    },
    {
     "cell_type": "markdown",
     "metadata": {},
     "source": [
      "Energy of reaction to products (d):"
     ]
    },
    {
     "cell_type": "code",
     "collapsed": false,
     "input": [
      "Be8 = 8.00530510\n",
      "D = 2.01410178\n",
      "Qdout = (Be8 + D)*u2mev #MeV\n",
      "Qd = Qin - Qdout #MeV\n",
      "print 'Energy output: ' + str(Qd) + ' MeV'"
     ],
     "language": "python",
     "metadata": {},
     "outputs": [
      {
       "output_type": "stream",
       "stream": "stdout",
       "text": [
        "Energy output: 0.559228913769 MeV\n"
       ]
      }
     ],
     "prompt_number": 23
    },
    {
     "cell_type": "markdown",
     "metadata": {},
     "source": [
      "Energy of reaction to products (e):"
     ]
    },
    {
     "cell_type": "code",
     "collapsed": false,
     "input": [
      "Be7 = 7.01692983\n",
      "T = 3.0160492\n",
      "Qeout = (Be7 + T)*u2mev #MeV\n",
      "Qe = Qin - Qeout #MeV\n",
      "print 'Energy output: ' + str(Qe) + ' MeV'"
     ],
     "language": "python",
     "metadata": {},
     "outputs": [
      {
       "output_type": "stream",
       "stream": "stdout",
       "text": [
        "Energy output: -12.0832505267 MeV\n"
       ]
      }
     ],
     "prompt_number": 24
    },
    {
     "cell_type": "markdown",
     "metadata": {},
     "source": [
      "Energy of reaction to products (f):"
     ]
    },
    {
     "cell_type": "code",
     "collapsed": false,
     "input": [
      "Li6 = 6.015122795\n",
      "He4 = 4.002602\n",
      "Qfout = (Li6 + He4)*u2mev #MeV\n",
      "Qf = Qin - Qfout #MeV\n",
      "print 'Energy output: ' + str(Qf) + ' MeV'"
     ],
     "language": "python",
     "metadata": {},
     "outputs": [
      {
       "output_type": "stream",
       "stream": "stdout",
       "text": [
        "Energy output: 2.1260937826 MeV\n"
       ]
      }
     ],
     "prompt_number": 25
    },
    {
     "cell_type": "markdown",
     "metadata": {},
     "source": [
      "From the energetics of the reaction, we can see that the following are exothermic\n",
      "    \n",
      " * Boron + $\\gamma$-ray\n",
      " * Beryllium-8 + deuterium\n",
      " * Lithium-6 + $\\alpha$-particle\n",
      "    \n",
      "And the following are endothermic\n",
      "\n",
      " * Beryllium-7 + tritium\n",
      " * Boron-9 + neutron\n",
      "    \n",
      "And the reaction to another beryllium-9 and proton is not energetic."
     ]
    },
    {
     "cell_type": "heading",
     "level": 3,
     "metadata": {},
     "source": [
      "Problem 4 (4.8)"
     ]
    },
    {
     "cell_type": "markdown",
     "metadata": {},
     "source": [
      "The lithium-6 reaction is very important for our research in fusion. We are focused on the thermomechanics of tritium breeders for fusion reactors. In a tritium breeder, you have lithium surrounding the plasma in order cause neutrons to react with lithium and produce tritium. Lithium-6 is especially nice (compared to the more abundant Li-7) because it is endothermic and has a liklihood to occur even at small incident neutron energies..."
     ]
    },
    {
     "cell_type": "markdown",
     "metadata": {},
     "source": [
      "The energy of the reactants is"
     ]
    },
    {
     "cell_type": "code",
     "collapsed": false,
     "input": [
      "Qin = (Mn + Li6)*u2mev #MeV"
     ],
     "language": "python",
     "metadata": {},
     "outputs": [],
     "prompt_number": 26
    },
    {
     "cell_type": "markdown",
     "metadata": {},
     "source": [
      "Energy of reaction to products (a):"
     ]
    },
    {
     "cell_type": "code",
     "collapsed": false,
     "input": [
      "Li7 = 7.01600455\n",
      "Qaout = Li7*u2mev #MeV\n",
      "Qa = Qin - Qaout #MeV\n",
      "print 'Energy output: ' + str(Qa) + ' MeV'"
     ],
     "language": "python",
     "metadata": {},
     "outputs": [
      {
       "output_type": "stream",
       "stream": "stdout",
       "text": [
        "Energy output: 7.25002692456 MeV\n"
       ]
      }
     ],
     "prompt_number": 27
    },
    {
     "cell_type": "markdown",
     "metadata": {},
     "source": [
      "Energy of reaction to products (b):"
     ]
    },
    {
     "cell_type": "code",
     "collapsed": false,
     "input": [
      "print 'Energy output: ' + str(Qin - Qin) + ' MeV'"
     ],
     "language": "python",
     "metadata": {},
     "outputs": [
      {
       "output_type": "stream",
       "stream": "stdout",
       "text": [
        "Energy output: 0.0 MeV\n"
       ]
      }
     ],
     "prompt_number": 56
    },
    {
     "cell_type": "markdown",
     "metadata": {},
     "source": [
      "Energy of reaction to products (c):"
     ]
    },
    {
     "cell_type": "code",
     "collapsed": false,
     "input": [
      "He6 = 6.0188891\n",
      "Qcout = (Mn + He6)*u2mev #MeV\n",
      "Qc = Qin - Qcout #MeV\n",
      "print 'Energy output: ' + str(Qc) + ' MeV'"
     ],
     "language": "python",
     "metadata": {},
     "outputs": [
      {
       "output_type": "stream",
       "stream": "stdout",
       "text": [
        "Energy output: -3.50831913359 MeV\n"
       ]
      }
     ],
     "prompt_number": 28
    },
    {
     "cell_type": "markdown",
     "metadata": {},
     "source": [
      "Energy of reaction to products (d):"
     ]
    },
    {
     "cell_type": "code",
     "collapsed": false,
     "input": [
      "He5 = 5.01222\n",
      "Qdout = (D + He5)*u2mev #MeV\n",
      "Qd = Qin - Qdout #MeV\n",
      "print 'Energy output: ' + str(Qd) + ' MeV'"
     ],
     "language": "python",
     "metadata": {},
     "outputs": [
      {
       "output_type": "stream",
       "stream": "stdout",
       "text": [
        "Energy output: -2.36048932801 MeV\n"
       ]
      }
     ],
     "prompt_number": 29
    },
    {
     "cell_type": "markdown",
     "metadata": {},
     "source": [
      "Energy of reaction to products (e):"
     ]
    },
    {
     "cell_type": "code",
     "collapsed": false,
     "input": [
      "Qeout = (T + He4)*u2mev #MeV\n",
      "Qe = Qin - Qeout #MeV\n",
      "print 'Energy output: ' + str(Qe) + ' MeV'"
     ],
     "language": "python",
     "metadata": {},
     "outputs": [
      {
       "output_type": "stream",
       "stream": "stdout",
       "text": [
        "Energy output: 4.78466821492 MeV\n"
       ]
      }
     ],
     "prompt_number": 30
    },
    {
     "cell_type": "heading",
     "level": 3,
     "metadata": {},
     "source": [
      "Problem 5 (4.10)"
     ]
    },
    {
     "cell_type": "markdown",
     "metadata": {},
     "source": [
      "The first $\\beta$-decay reaction is\n",
      "\n",
      "$\\begin{align}\n",
      "_{11}^{22}\\text{Na} \\rightarrow _{10}^{22}\\text{Ne} + \\,_{+1}^{0}\\!e + \\nu\n",
      "\\end{align}$\n",
      "\n",
      "To conserve charge, we must add an electron to the right side of the equation. The reaction can then be considered as\n",
      "\n",
      "$\\begin{align}\n",
      "_{11}^{22}\\text{Na} \\rightarrow _{10}^{22}\\text{Ne} + \\,_{-1}^{0}\\!e + \\,_{+1}^{0}\\!e + \\nu\n",
      "\\end{align}$"
     ]
    },
    {
     "cell_type": "code",
     "collapsed": false,
     "input": [
      "Me = 9.109534e-31\n",
      "QNe = (21.9944364*u - 2*Me - 21.991385114*u)*c**2*1/1.6021892e-13 #MeV\n",
      "print 'Energy output: ' + str(QNe) + ' MeV'"
     ],
     "language": "python",
     "metadata": {},
     "outputs": [
      {
       "output_type": "stream",
       "stream": "stdout",
       "text": [
        "Energy output: 1.82022562615 MeV\n"
       ]
      }
     ],
     "prompt_number": 19
    },
    {
     "cell_type": "markdown",
     "metadata": {},
     "source": [
      "The second is\n",
      "\n",
      "$\\begin{align}\n",
      "_{17}^{38}\\text{Cl} \\rightarrow _{18}^{38}\\text{Ar} + \\,_{-}^{0}e + \\bar{\\nu}\n",
      "\\end{align}$\n",
      "\n",
      "To balance the charge, we've got 17 electrons on Chlorine and 18 on Argon, so we add an electrons to the LHS. Thus our energy equation needs to just consider those two elements (neglecting the contribution of the neutrino)"
     ]
    },
    {
     "cell_type": "code",
     "collapsed": false,
     "input": [
      "MAr = 37.9627324*u\n",
      "MCl = 37.96801043*u\n",
      "QCl = (MCl - MAr)*c**2*1/1.6021892e-13 #MeV\n",
      "print 'Energy output: ' + str(QCl) + ' MeV'"
     ],
     "language": "python",
     "metadata": {},
     "outputs": [
      {
       "output_type": "stream",
       "stream": "stdout",
       "text": [
        "Energy output: 4.91641482645 MeV\n"
       ]
      }
     ],
     "prompt_number": 21
    }
   ],
   "metadata": {}
  }
 ]
}