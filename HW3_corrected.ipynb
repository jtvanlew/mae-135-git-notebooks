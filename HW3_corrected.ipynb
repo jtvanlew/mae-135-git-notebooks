{
 "metadata": {
  "name": "HW3_corrected.ipynb"
 },
 "nbformat": 3,
 "nbformat_minor": 0,
 "worksheets": [
  {
   "cells": [
    {
     "cell_type": "markdown",
     "metadata": {},
     "source": [
      "#MAE 135 Fundamentals of Nuclear Science"
     ]
    },
    {
     "cell_type": "markdown",
     "metadata": {},
     "source": [
      "##Homework 3"
     ]
    },
    {
     "cell_type": "markdown",
     "metadata": {},
     "source": [
      "Jon Van Lew\n",
      "\n",
      "UCLA\n",
      "\n",
      "2013, Fall"
     ]
    },
    {
     "cell_type": "markdown",
     "metadata": {},
     "source": [
      "###Problem 1 (5.2)"
     ]
    },
    {
     "cell_type": "markdown",
     "metadata": {},
     "source": [
      "When the radioisotope $^{224}$Ra decays to an $\\alpha$ particle, it either decays to $^{220}$Rn or an excited $^{220}$Rn (with 0.241 MeV above ground state). The energy of the $\\alpha$ particle is found by first balancing the energies:\n",
      "\n",
      "$\\begin{align}\n",
      "Q = \\left[M_p - (M_d + M_\\alpha)\\right]*c^2\n",
      "\\end{align}$\n",
      "\n",
      "Then, conservation of linear momentum (with some assumptions) gives\n",
      "\n",
      "$\\begin{align}\n",
      "E = Q \\left(\\cfrac{A_d}{A_d + A_\\alpha}\\right)\n",
      "\\end{align}$\n",
      "\n",
      "Using these equations, the alpha energies are..."
     ]
    },
    {
     "cell_type": "code",
     "collapsed": false,
     "input": [
      "alpha = 4.00260325\n",
      "Ra224 = 224.0202020\n",
      "Rn220 = 220.0113841\n",
      "\n",
      "u2mev = 931.5016\n",
      "Qa = (Ra224 - (Rn220 + alpha))*u2mev\n",
      "Qb = (Ra224 - (Rn220 + alpha + 0.241/u2mev))*u2mev\n",
      "Ealphaa = Qa*(Rn220/(Rn220 + alpha))|\n",
      "Ealphab = Qb*((Rn220+0.241/u2mev)/((Rn220+0.241/u2mev) + alpha))\n",
      "print 'alpha energy of ground state decay: ' + str(Ealphaa) + ' MeV'\n",
      "print 'alpha energy of excited state decay: ' + str(Ealphab) + ' MeV'"
     ],
     "language": "python",
     "metadata": {},
     "outputs": [
      {
       "output_type": "stream",
       "stream": "stdout",
       "text": [
        "alpha energy of ground state decay: 5.68552137832 MeV\n",
        "alpha energy of excited state decay: 5.44882759618 MeV\n"
       ]
      }
     ],
     "prompt_number": 6
    },
    {
     "cell_type": "markdown",
     "metadata": {},
     "source": [
      "###Problem 2 (5.4)"
     ]
    },
    {
     "cell_type": "markdown",
     "metadata": {},
     "source": [
      "$^{64}$Cu decays by several mechanisms. Via the decay diagram, the energy and frequency of the only emitted photon is:\n",
      "\n",
      " * 0.0047/decay $\\rightarrow$ $\\gamma$ of 1345.8 keV\n",
      "\n",
      "The energy and frequency of the emitted negatron and positron are:\n",
      "\n",
      " * 0.1752/decay $\\rightarrow$ $\\beta^+$ of 653.1 keV\n",
      " * 0.3848/decay $\\rightarrow$ $\\beta^-$ of 578.8 keV\n",
      "\n",
      "The remaining electron capture mode converts Cu to Ni and doesn't emit any photons or nega/positrons."
     ]
    },
    {
     "cell_type": "markdown",
     "metadata": {},
     "source": [
      "###Problem 3 (5.7)"
     ]
    },
    {
     "cell_type": "markdown",
     "metadata": {},
     "source": [
      "For an element with a constant decay rate, the amount of the substance (in 'number') is written as\n",
      "\n",
      "$\\begin{align}\n",
      "N = N_0e^{-\\lambda(t-t_0)}\n",
      "\\end{align}$\n",
      "\n",
      "If this radioisotope was found to decrease by 30% in one week, we have $\\Delta t$ = 1 week * 7 day/w * 24 hr/day * 3600 s/hr, and $N/N_0 = 0.3$"
     ]
    },
    {
     "cell_type": "code",
     "collapsed": false,
     "input": [
      "deltat = 1 * 7 * 24 * 3600 #sec\n",
      "print deltat"
     ],
     "language": "python",
     "metadata": {},
     "outputs": [
      {
       "output_type": "stream",
       "stream": "stdout",
       "text": [
        "604800\n"
       ]
      }
     ],
     "prompt_number": 3
    },
    {
     "cell_type": "markdown",
     "metadata": {},
     "source": [
      "So the decay constant is found from solving the above equation for $\\lambda$"
     ]
    },
    {
     "cell_type": "markdown",
     "metadata": {},
     "source": [
      "$\\begin{align}\n",
      "\\lambda = -\\cfrac{\\ln(0.7)}{604800~s}\n",
      "\\end{align}$"
     ]
    },
    {
     "cell_type": "code",
     "collapsed": false,
     "input": [
      "lambdat = -np.log(0.7)/(604800)\n",
      "print str(lambdat)+ ' decay/sec'"
     ],
     "language": "python",
     "metadata": {},
     "outputs": [
      {
       "output_type": "stream",
       "stream": "stdout",
       "text": [
        "5.89740317359e-07 decay/sec\n"
       ]
      }
     ],
     "prompt_number": 16
    },
    {
     "cell_type": "markdown",
     "metadata": {},
     "source": [
      "Now the half-life and mean life can be readily calculated from $\\tau = \\frac{\\ln(2)}{\\lambda}$ and $\\langle \\tau \\rangle = \\frac{1}{\\lambda}$"
     ]
    },
    {
     "cell_type": "code",
     "collapsed": false,
     "input": [
      "tauhalf = np.log(2)/lambdat/3600/24/7\n",
      "taumean = 1/lambdat/3600/24/7\n",
      "\n",
      "print 'half-life: ' + str(tauhalf) + ' weeks'\n",
      "print 'mean life: ' + str(taumean) + ' weeks'"
     ],
     "language": "python",
     "metadata": {},
     "outputs": [
      {
       "output_type": "stream",
       "stream": "stdout",
       "text": [
        "half-life: 1.94335820987 weeks\n",
        "mean life: 2.80367325206 weeks\n"
       ]
      }
     ],
     "prompt_number": 21
    },
    {
     "cell_type": "markdown",
     "metadata": {},
     "source": [
      "###Problem 4 (5.12)"
     ]
    },
    {
     "cell_type": "markdown",
     "metadata": {},
     "source": [
      "The activity of the first daughter radioisotope in a decay chain is\n",
      "\n",
      "$\\begin{align}\n",
      "A_2 = A_{1,0}\\frac{\\lambda_2}{\\lambda_2-\\lambda_1}e^{-\\lambda_1 t}\\left[1-e^{-(\\lambda_2-\\lambda_1)t}\\right]\n",
      "\\end{align}$\n",
      "\n",
      "In this case, the decay constant of $^{90}$Y is much larger than that of its parent, thus is in secular equilibrium. In such a case, the activity is simplified as\n",
      "\n",
      "$\\begin{align}\n",
      "A_2 = A_{1,0}\\frac{\\lambda_2}{\\lambda_2-\\lambda_1}e^{-\\lambda_1 t}\n",
      "\\end{align}$\n",
      "\n",
      "Which says that the activity of the daughter is approximately equal to the activity of the parent. Thus we find the activity of strontium-90 in order to find the activity of yttrium-90..."
     ]
    },
    {
     "cell_type": "code",
     "collapsed": false,
     "input": [
      "lambdaSr = np.log(2)/(29.12*365*24*3600) #decay/sec\n",
      "mSr = 6.2/1000 # g\n",
      "Na = 6.0221413e+23 # #/mol\n",
      "ZSr = 89.907738 # g/mol\n",
      "NSr = mSr*Na/ZSr # # of atoms in the 6.2 g\n",
      "\n",
      "ActivitySr = NSr * lambdaSr # Bq\n",
      "print 'activity of strontium-90: ' + str(ActivitySr/10**9) + ' GBq'\n",
      "print 'activity of yttrium-90: ' + str(ActivitySr/10**9) + ' GBq'"
     ],
     "language": "python",
     "metadata": {},
     "outputs": [
      {
       "output_type": "stream",
       "stream": "stdout",
       "text": [
        "activity of strontium-90: 31.3453441868 GBq\n",
        "activity of yttrium-90: 31.3453441868 GBq\n"
       ]
      }
     ],
     "prompt_number": 8
    },
    {
     "cell_type": "markdown",
     "metadata": {},
     "source": [
      "The mass of yttrium is found from a balance of the activities\n",
      "\n",
      "$\\begin{align}\n",
      "\\lambda_{sr}N_{sr} = \\lambda_yN_y\n",
      "\\end{align}$\n",
      "\n",
      "Then\n",
      "\n",
      "$\\begin{align}\n",
      "m_y = \\cfrac{N_yA_y}{N_A}=N_{sr}\\cfrac{\\lambda_{sr}}{\\lambda_{y}}\\cfrac{A_y}{N_A}\n",
      "\\end{align}$"
     ]
    },
    {
     "cell_type": "code",
     "collapsed": false,
     "input": [
      "Y90 = 89.9071519\n",
      "lambdaY = log(2)/(64*3600)\n",
      "print lambdaY\n",
      "mY = NSr*(lambdaSr/lambdaY)*Y90/Na\n",
      "print 'mass of yttrium 90 in this sample: ' + str(mY*1000) + ' mg'"
     ],
     "language": "python",
     "metadata": {},
     "outputs": [
      {
       "output_type": "stream",
       "stream": "stdout",
       "text": [
        "3.00845130451e-06\n",
        "mass of yttrium 90 in this sample: 0.00155551196317 mg\n"
       ]
      }
     ],
     "prompt_number": 10
    },
    {
     "cell_type": "markdown",
     "metadata": {},
     "source": [
      "After 100 years, the activity of yttrium-90 can still be found from the activity of strontium-90. We must first find the remaining number of strontium-90 atoms after 100 years..."
     ]
    },
    {
     "cell_type": "code",
     "collapsed": false,
     "input": [
      "NSr100 = NSr*exp(-lambdaSr*(100.*365*24*3600))\n",
      "ActivitySr100 = NSr100*lambdaSr\n",
      "print 'Activity of yttrium-90 after 100 years: ' + str(ActivitySr100) + ' Bq'"
     ],
     "language": "python",
     "metadata": {},
     "outputs": [
      {
       "output_type": "stream",
       "stream": "stdout",
       "text": [
        "Activity of yttrium-90 after 100 years: 2900121478.37 Bq\n"
       ]
      }
     ],
     "prompt_number": 8
    },
    {
     "cell_type": "markdown",
     "metadata": {},
     "source": [
      "Just for fun, here's a plot of the activity of $^{90}$Y for this sample over time"
     ]
    },
    {
     "cell_type": "code",
     "collapsed": false,
     "input": [
      "t = linspace(0,300,1001)\n",
      "NY = NSr*exp(-lambdaSr*t*365.*24*3600)\n",
      "plot(t,NY)\n",
      "xlabel('Time, year')\n",
      "ylabel('Activity of yttrium-90, Bq')"
     ],
     "language": "python",
     "metadata": {},
     "outputs": [
      {
       "output_type": "pyout",
       "prompt_number": 9,
       "text": [
        "<matplotlib.text.Text at 0x28c3dd0>"
       ]
      },
      {
       "output_type": "display_data",
       "png": "[encoded data removed]",
       "text": [
        "<matplotlib.figure.Figure at 0x2831fd0>"
       ]
      }
     ],
     "prompt_number": 9
    },
    {
     "cell_type": "markdown",
     "metadata": {},
     "source": [
      "###Problem 5 (5.15)"
     ]
    },
    {
     "cell_type": "markdown",
     "metadata": {},
     "source": [
      "The half-life of $^{226}$Ra is 1600 years while the half-life for $^{222}$Rn is only 3.8235 days. For such a parent-daughter decay, the assumption of secular equilibrium is completely valid. Just to confirm, I plotted the activity of Radon and Radium at different time scales."
     ]
    },
    {
     "cell_type": "code",
     "collapsed": false,
     "input": [
      "tauRa = 1600.*365*24*3600\n",
      "tauRn = 3.8235 *24*3600\n",
      "\n",
      "lambdaRa = log(2.)/tauRa\n",
      "lambdaRn = log(2.)/tauRn\n",
      "\n",
      "mRa = 40./1000 # g\n",
      "Ra226 = 226.0254098 # u\n",
      "Rn222 = 222.0175777 # u\n",
      "\n",
      "mci2bq = 37000000.\n",
      "\n",
      "NRa0 = mRa*Na/Ra226 # initial atoms\n",
      "t = linspace(0,1/12.,101)\n",
      "ActivityRn = lambdaRa * NRa0 * lambdaRn/(lambdaRn - lambdaRa) * exp(-lambdaRa *t*365.*24*3600) * \\\n",
      "             ( 1 -  exp(-(lambdaRn - lambdaRa) * t*365.*24*3600))\n",
      "ActivityRa = lambdaRa * NRa0*exp( -lambdaRa * t * 365.*24*3600)\n",
      "figure(1)\n",
      "plot(t,ActivityRn)\n",
      "plot(t,ActivityRa)\n",
      "legend(('Rn', 'Ra'))\n",
      "xlabel('time, years')\n",
      "ylabel('Activity, Bq')\n",
      "\n",
      "t = linspace(0,5000,1001)\n",
      "ActivityRn = lambdaRa * NRa0 * lambdaRn/(lambdaRn - lambdaRa) * ( exp(-lambdaRa *t*365.*24*3600) -  \\\n",
      "            exp(-lambdaRn * t*365.*24*3600))\n",
      "ActivityRa = lambdaRa * NRa0*exp( -lambdaRa * t * 365.*24*3600)\n",
      "figure(2)\n",
      "plot(t,ActivityRn)\n",
      "plot(t,ActivityRa)\n",
      "legend(('Rn', 'Ra'))\n",
      "xlabel('time, years')\n",
      "ylabel('Activity, Bq')"
     ],
     "language": "python",
     "metadata": {},
     "outputs": [
      {
       "output_type": "pyout",
       "prompt_number": 25,
       "text": [
        "<matplotlib.text.Text at 0x28cc050>"
       ]
      },
      {
       "output_type": "display_data",
       "png": "[encoded data removed]",
       "text": [
        "<matplotlib.figure.Figure at 0x2ce3ad0>"
       ]
      },
      {
       "output_type": "display_data",
       "png": "[encoded data removed]",
       "text": [
        "<matplotlib.figure.Figure at 0x2ce2b50>"
       ]
      }
     ],
     "prompt_number": 25
    },
    {
     "cell_type": "markdown",
     "metadata": {},
     "source": [
      "In the first plot, over the course of a month (1/12 yr), the radium accumulates to essentially the same activity as radon. In the second plot, over 10,000 years, radium and radon have activities that decay together."
     ]
    },
    {
     "cell_type": "markdown",
     "metadata": {},
     "source": [
      "Now to solve the problem, I need to find the time for 10 mCi of radon-222. The secular equilibrium equations won't match when we are watching the build-up of radon-222. So we must solve the full decay chain equation.\n",
      "\n",
      "$\\begin{align}\n",
      "10~\\text{mCi} = A_{1,0} \\cfrac{\\lambda_2}{\\lambda_2-\\lambda_1}e^{-\\lambda_1 t}\\left[1-e^{-(\\lambda_2-\\lambda_1) t}\\right]\n",
      "\\end{align}$\n",
      "\n",
      "I do this numerically here"
     ]
    },
    {
     "cell_type": "code",
     "collapsed": false,
     "input": [
      "for t in arange(0,.005,0.000001):\n",
      "    LHS = 10*mci2bq\n",
      "    RHS = lambdaRa * NRa0 * lambdaRn/(lambdaRn - lambdaRa) * exp(-lambdaRa *t*365.*24*3600) * \\\n",
      "          ( 1 -  exp(-(lambdaRn - lambdaRa) * t*365.*24*3600))\n",
      "    if  abs((LHS-RHS)/LHS) < 0.0001:\n",
      "        print 'Time to accumulate 10 mCi is ' + str(t*365*24) + ' hr' "
     ],
     "language": "python",
     "metadata": {},
     "outputs": [
      {
       "output_type": "stream",
       "stream": "stdout",
       "text": [
        "Time to accumulate 10 mCi is 38.57028 hr\n"
       ]
      }
     ],
     "prompt_number": 14
    },
    {
     "cell_type": "markdown",
     "metadata": {},
     "source": [
      "Based on my plots from above, after 2 years, the activity of radon-222 is essentially the same as the activity of radium-226. So I will use the simpler expresssion for radium-226 to calculate the value. This assumption is even more correct after 1000 years."
     ]
    },
    {
     "cell_type": "code",
     "collapsed": false,
     "input": [
      "ActivityRa2 = lambdaRa * NRa0*exp( -lambdaRa * 2 * 365.*24*3600)\n",
      "ActivityRa1000 = lambdaRa * NRa0*exp( -lambdaRa * 1000 * 365.*24*3600)\n",
      "\n",
      "print 'Activity of radon-222 after 2 years is approximately: ' + str(ActivityRa2/10**9.) + ' GBq'\n",
      "print 'Activity of radon-222 after 1000 years is approximately: ' + str(ActivityRa1000/10**9.) + ' GBq'"
     ],
     "language": "python",
     "metadata": {},
     "outputs": [
      {
       "output_type": "stream",
       "stream": "stdout",
       "text": [
        "Activity of radon-222 after 2 years is approximately: 1.46277069551 GBq\n",
        "Activity of radon-222 after 1000 years is approximately: 0.949311608266 GBq\n"
       ]
      }
     ],
     "prompt_number": 26
    },
    {
     "cell_type": "code",
     "collapsed": false,
     "input": [],
     "language": "python",
     "metadata": {},
     "outputs": []
    }
   ],
   "metadata": {}
  }
 ]
}