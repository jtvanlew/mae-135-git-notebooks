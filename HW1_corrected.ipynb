{
 "metadata": {
  "name": "HW1_corrected.ipynb"
 },
 "nbformat": 3,
 "nbformat_minor": 0,
 "worksheets": [
  {
   "cells": [
    {
     "cell_type": "heading",
     "level": 1,
     "metadata": {},
     "source": [
      "MAE 135 - Fundamentals of Nuclear Science"
     ]
    },
    {
     "cell_type": "heading",
     "level": 2,
     "metadata": {},
     "source": [
      "Homework 1"
     ]
    },
    {
     "cell_type": "markdown",
     "metadata": {},
     "source": [
      "Jon Van Lew\n",
      "\n",
      "UCLA\n",
      "\n",
      "2013, Fall"
     ]
    },
    {
     "cell_type": "heading",
     "level": 3,
     "metadata": {},
     "source": [
      "Problem 1 (1.5)"
     ]
    },
    {
     "cell_type": "markdown",
     "metadata": {},
     "source": [
      "We first wish to find the molecular density of H$_2$, D$_2$, and H$_2$O if they're treated as an ideal gas at a given pressure and temperature."
     ]
    },
    {
     "cell_type": "code",
     "collapsed": false,
     "input": [
      "Patm = 1 #atm\n",
      "P = Patm * 101325 #Pa\n",
      "T = 293.2 #K\n",
      "k = 1.3806488e-23 # J/K\n",
      "N = P/(k*T) # #/m3\n",
      "print N"
     ],
     "language": "python",
     "metadata": {},
     "outputs": [
      {
       "output_type": "stream",
       "stream": "stdout",
       "text": [
        "2.50304943332e+25\n"
       ]
      }
     ],
     "prompt_number": 1
    },
    {
     "cell_type": "markdown",
     "metadata": {},
     "source": [
      "For an ideal gas at 1 atm and 293.2 K, the molecular density is 2.503$\\times 10^{25}$ molecule/m$^3$ which is true regardless of the gas under consideration, i.e. it is the same for H$_2$, D$_2$, and H$_2$O.\n",
      "    \n",
      "To find their mass density, we use molar masses of the molecules..."
     ]
    },
    {
     "cell_type": "code",
     "collapsed": false,
     "input": [
      "MM = array([2.015894, 4.028204, 18.01532]) #g/mol\n",
      "rho = N*MM*(1/100.)**3\n",
      "print rho"
     ],
     "language": "python",
     "metadata": {},
     "outputs": [
      {
       "output_type": "stream",
       "stream": "stdout",
       "text": [
        "[  8.37934976e-05   1.67438021e-04   7.48832366e-04]\n"
       ]
      }
     ],
     "prompt_number": 4
    },
    {
     "cell_type": "markdown",
     "metadata": {},
     "source": [
      "Thus the mass densities are\n",
      "\n",
      "$\\begin{align}\n",
      "8.&38\\times 10^{-5} \\text{g/cm}^3\\\\\n",
      "16.&74\\times 10^{-5} \\text{g/cm}^3\\\\\n",
      "74.&9\\times 10^{-5} \\text{g/cm}^3\n",
      "\\end{align}$\n",
      "\n",
      "for H$_2$, D$_2$, and H$_2$O, respectively"
     ]
    },
    {
     "cell_type": "heading",
     "level": 3,
     "metadata": {},
     "source": [
      "Problem 2 (1.9)"
     ]
    },
    {
     "cell_type": "markdown",
     "metadata": {},
     "source": [
      "Molecular weights of H$_2$, H$_2$O, and HDO are found from summations of their atomic parts..."
     ]
    },
    {
     "cell_type": "code",
     "collapsed": false,
     "input": [
      "H2 = 2.015894\n",
      "H2O = H2 + 15.9994\n",
      "HDO = 1.0079 + 2.01410178 + 15.9994\n",
      "print str(H2) + ', ' + str(H2O) + ', ' + str(HDO)"
     ],
     "language": "python",
     "metadata": {},
     "outputs": [
      {
       "output_type": "stream",
       "stream": "stdout",
       "text": [
        "2.015894, 18.015294, 19.02140178\n"
       ]
      }
     ],
     "prompt_number": 8
    },
    {
     "cell_type": "heading",
     "level": 3,
     "metadata": {},
     "source": [
      "Problem 3 (1.12)"
     ]
    },
    {
     "cell_type": "markdown",
     "metadata": {},
     "source": [
      "The relative atomic mass, prior to 1961, was defined off the $^{16}$O isotope. So 1 mol of $^{16}$O was precisely 16 g. Or, 16 g/mol. But now, relative to $^{12}$C, it is found as m$_{O}$ = 15.99491461956 g/mol. The conversion factor (from new to old units) being..."
     ]
    },
    {
     "cell_type": "code",
     "collapsed": false,
     "input": [
      "15.99491461956/16"
     ],
     "language": "python",
     "metadata": {},
     "outputs": [
      {
       "output_type": "pyout",
       "prompt_number": 1,
       "text": [
        "0.9996821637225"
       ]
      }
     ],
     "prompt_number": 1
    },
    {
     "cell_type": "markdown",
     "metadata": {},
     "source": [
      "Thus Avogadro's number as used pre-1961 relative to today's calculation has a value of "
     ]
    },
    {
     "cell_type": "code",
     "collapsed": false,
     "input": [
      "Na = 6.0221413e+23\n",
      "Naprime = 15.99491461956/16*Na\n",
      "print Naprime"
     ],
     "language": "python",
     "metadata": {},
     "outputs": [
      {
       "output_type": "stream",
       "stream": "stdout",
       "text": [
        "6.02022724503e+23\n"
       ]
      }
     ],
     "prompt_number": 4
    },
    {
     "cell_type": "heading",
     "level": 3,
     "metadata": {},
     "source": [
      "Problem 4 (1.17)"
     ]
    },
    {
     "cell_type": "markdown",
     "metadata": {},
     "source": [
      "A nuclear reactor is fueled with 4 kg of uranium enriched to 20 atom-percent in $^{235}$U, the remainder being the 238 isotope. The atomic mass would be"
     ]
    },
    {
     "cell_type": "code",
     "collapsed": false,
     "input": [
      "rho_cgs = 19.2 #g/cm3\n",
      "V = 4000/rho_cgs # cm3\n",
      "A = 0.2*235.0439299 + 0.8*238.05078826\n",
      "print A"
     ],
     "language": "python",
     "metadata": {},
     "outputs": [
      {
       "output_type": "stream",
       "stream": "stdout",
       "text": [
        "237.449416588\n"
       ]
      }
     ],
     "prompt_number": 11
    },
    {
     "cell_type": "markdown",
     "metadata": {},
     "source": [
      "Then, in 4 kg of the enriched uranium, we'd expect $N_U$ numbers of atoms..."
     ]
    },
    {
     "cell_type": "code",
     "collapsed": false,
     "input": [
      "NU = rho_cgs * Na / A #atom/cm3\n",
      "print NU"
     ],
     "language": "python",
     "metadata": {},
     "outputs": [
      {
       "output_type": "stream",
       "stream": "stdout",
       "text": [
        "4.86946292063e+22\n"
       ]
      }
     ],
     "prompt_number": 16
    },
    {
     "cell_type": "markdown",
     "metadata": {},
     "source": [
      "So, 20% of these atoms are $^{235}$U, meaning there are "
     ]
    },
    {
     "cell_type": "code",
     "collapsed": false,
     "input": [
      "N235 = 0.2*NU"
     ],
     "language": "python",
     "metadata": {},
     "outputs": [],
     "prompt_number": 13
    },
    {
     "cell_type": "markdown",
     "metadata": {},
     "source": [
      "atoms of that isotope in the 4 kg block. Backing out the mass of that particular isotope gives..."
     ]
    },
    {
     "cell_type": "code",
     "collapsed": false,
     "input": [
      "N235/Na*235.0439299*V #g"
     ],
     "language": "python",
     "metadata": {},
     "outputs": [
      {
       "output_type": "pyout",
       "prompt_number": 14,
       "text": [
        "791.8955818967582"
       ]
      }
     ],
     "prompt_number": 14
    },
    {
     "cell_type": "markdown",
     "metadata": {},
     "source": [
      "g of $^{235}$U in the fuel."
     ]
    },
    {
     "cell_type": "markdown",
     "metadata": {},
     "source": [
      "When I do the algebra in one step on the above, I end up with a simple equation that gives the same result.\n",
      "\n",
      "$\\begin{equation}\n",
      "m_{235} = m \\cfrac{\\gamma_{235}A_{235}}{\\gamma_{235}A_{235}+\\gamma_{238}A_{238}} = 0.792~\\text{kg}\n",
      "\\end{equation}$        "
     ]
    },
    {
     "cell_type": "markdown",
     "metadata": {},
     "source": [
      "To find the atom densities of the isotopes, we can find the total atom density and then take the atomic percentages."
     ]
    },
    {
     "cell_type": "code",
     "collapsed": false,
     "input": [
      "U235NumbDensity = 0.2 * NU\n",
      "U238NumbDensity = 0.8 * NU\n",
      "print U235NumbDensity\n",
      "print U238NumbDensity"
     ],
     "language": "python",
     "metadata": {},
     "outputs": [
      {
       "output_type": "stream",
       "stream": "stdout",
       "text": [
        "9.73892584126e+21\n",
        "3.8955703365e+22\n"
       ]
      }
     ],
     "prompt_number": 15
    },
    {
     "cell_type": "markdown",
     "metadata": {},
     "source": [
      "So in this block with a mass density of 19.2 g/cm$^{3}$, we find \n",
      "\n",
      " * 9.739e21 atoms/cm$^3$ of $^{235}$U and \n",
      " * 38.96e21 atoms/cm$^3$ of $^{238}$U"
     ]
    },
    {
     "cell_type": "heading",
     "level": 3,
     "metadata": {},
     "source": [
      "Problem 5 (2.6)"
     ]
    },
    {
     "cell_type": "markdown",
     "metadata": {},
     "source": [
      "If a muon is generated in the atmosphere and exists for only 2.2 $\\mu$s before decaying into an energetic electron, it would only seem to travel a few hundred meters (traveling at 0.998c) in its lifetime. However, they are known to travel several kilometers to reach the surface. The discrepency can be explained with Einstein's equations of relativity."
     ]
    },
    {
     "cell_type": "code",
     "collapsed": false,
     "input": [
      "t0 = 2.2e-6\n",
      "tmuon = t0/sqrt(1-(.998**2))\n",
      "xmuon = 0.998*3e8 * tmuon\n",
      "xnonrel = 0.998*3e8 * t0\n",
      "x=linspace(0,1,101)\n",
      "print 'relativistic travel distance: '+str(xmuon)+', Nonrelativistic distance: '+str(xnonrel)"
     ],
     "language": "python",
     "metadata": {},
     "outputs": [
      {
       "output_type": "stream",
       "stream": "stdout",
       "text": [
        "relativistic travel distance: 10419.8564774, Nonrelativistic distance: 658.68\n"
       ]
      }
     ],
     "prompt_number": 23
    },
    {
     "cell_type": "markdown",
     "metadata": {},
     "source": [
      "So if we don't account for the dilation of time as seen by stationary observers of the muon, we would predict it to travel only 658 m. But when we do account for that extra time, it is able to travel nearly 10.5 km before decaying."
     ]
    },
    {
     "cell_type": "heading",
     "level": 3,
     "metadata": {},
     "source": [
      "Problem 6 (2.11)"
     ]
    },
    {
     "cell_type": "markdown",
     "metadata": {},
     "source": [
      "Starting with the de Broglie wavelength equation, we factor out the kinetic energy as\n",
      "\n",
      "$\\begin{align}\n",
      "\\lambda &= \\cfrac{hc}{\\sqrt{T^2 + 2Tm_0 c^2}}\\\\\n",
      "\\lambda & = \\cfrac{h}{\\sqrt{T}}\\cfrac{1}{\\sqrt{T/c^2 + 2m_0}}\n",
      "\\end{align}$\n",
      "\n",
      "We know that the kinetic energy can also be written as $T = mc^2 - m_0c^2$, thus\n",
      "\n",
      "$\\begin{align}\n",
      "\\lambda & = \\cfrac{h}{\\sqrt{T}}\\cfrac{1}{\\sqrt{m-m_0 + 2m_0}}\\\\\n",
      "\\lambda & = \\cfrac{h}{\\sqrt{m_0}}\\cfrac{1}{\\sqrt{T}}\\cfrac{1}{\\sqrt{1+\\frac{m}{m_0}}}\n",
      "\\end{align}$\n",
      "\n",
      "Q.E.D."
     ]
    },
    {
     "cell_type": "heading",
     "level": 3,
     "metadata": {},
     "source": [
      "Problem 7 (2.13)"
     ]
    },
    {
     "cell_type": "markdown",
     "metadata": {},
     "source": [
      "What are the wavelengths of electrons with kinetic energies of 10 eV, 1000 eV, and 10$^7$ eV?"
     ]
    },
    {
     "cell_type": "markdown",
     "metadata": {},
     "source": [
      "The first two energy levels, 10 eV and 1000 eV, are small enough to be treated in non-relativistic terms. So their de Broglie wavelength is found from\n",
      "\n",
      "$\\begin{align}\n",
      "\\lambda = \\cfrac{h}{\\sqrt{2m_eT}}\n",
      "\\end{align}$"
     ]
    },
    {
     "cell_type": "code",
     "collapsed": false,
     "input": [
      "h = 4.136e-15 #eVs\n",
      "c = 299792458\n",
      "m_0e = 0.511e6/c**2 #eV/m2/s2\n",
      "x = array([10,1000,10**7])\n",
      "T = array([10, 1000])\n",
      "lambda_nonrel = h/(sqrt(2*m_0e*T))\n",
      "print lambda_nonrel"
     ],
     "language": "python",
     "metadata": {},
     "outputs": [
      {
       "output_type": "stream",
       "stream": "stdout",
       "text": [
        "[  3.87860707e-10   3.87860707e-11]\n"
       ]
      }
     ],
     "prompt_number": 5
    },
    {
     "cell_type": "markdown",
     "metadata": {},
     "source": [
      "Thus we have\n",
      "\n",
      "$\\begin{align}\n",
      "\\lambda_{10} &= 3.88~\\text{angstrom}\\\\\n",
      "\\lambda_{1000} &= 0.388~\\text{angstrom}\n",
      "\\end{align}$"
     ]
    },
    {
     "cell_type": "markdown",
     "metadata": {},
     "source": [
      "For the high-energy electron we must consider relativistic effects because $T>>2m_ec^2$. Then we can just say that $\\lambda = hc/T$. So"
     ]
    },
    {
     "cell_type": "code",
     "collapsed": false,
     "input": [
      "lambda_full = append(lambda_nonrel,h/10**7)\n",
      "print h*c/10**7\n",
      "loglog(x,lambda_full)\n",
      "xlabel('Electron energy (eV)')\n",
      "ylabel('Wavlength (m)')"
     ],
     "language": "python",
     "metadata": {},
     "outputs": [
      {
       "output_type": "stream",
       "stream": "stdout",
       "text": [
        "1.23994160629e-13\n"
       ]
      },
      {
       "output_type": "pyout",
       "prompt_number": 6,
       "text": [
        "<matplotlib.text.Text at 0x3637690>"
       ]
      },
      {
       "output_type": "display_data",
       "png": "[encoded data removed]",
       "text": [
        "<matplotlib.figure.Figure at 0x362c890>"
       ]
      }
     ],
     "prompt_number": 6
    },
    {
     "cell_type": "markdown",
     "metadata": {},
     "source": [
      "And the last de Broglie wavelength is\n",
      "\n",
      "$\\begin{align}\n",
      "\\lambda_{10^7} = 4.14\\times 10^{-22}~\\text{m}\n",
      "\\end{align}$\n",
      "\n",
      "A plot is given to show the decreasing trend of wavelength with energy"
     ]
    }
   ],
   "metadata": {}
  }
 ]
}