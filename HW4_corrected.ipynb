{
 "metadata": {
  "name": "HW4_corrected.ipynb"
 },
 "nbformat": 3,
 "nbformat_minor": 0,
 "worksheets": [
  {
   "cells": [
    {
     "cell_type": "markdown",
     "metadata": {},
     "source": [
      "#Homework 4"
     ]
    },
    {
     "cell_type": "markdown",
     "metadata": {},
     "source": [
      "Jon Van Lew\n",
      "\n",
      "UCLA, MAE 135 HW4\n",
      "\n",
      "2013-11-05"
     ]
    },
    {
     "cell_type": "markdown",
     "metadata": {},
     "source": [
      "###Problem 1 (6.5)"
     ]
    },
    {
     "cell_type": "markdown",
     "metadata": {},
     "source": [
      "*[major edit: this problem had wrong numbers all over the place. First, the threshold energies needed to be calculated from the Be-9 + p reaction -- I used B10 all over. Second, MAKE SURE TO USE ATOMIC HYDROGEN INSTEAD OF NUCLEAR PROTON. I made this mistake in all the homeworks and never caught it.]*\n",
      "\n",
      "When a proton collides with $^9$Be, the compound nucleus $^{10}$B* is created. This boron exists in the excited state and so decays in the following ways:\n",
      "\n",
      "$\\begin{align}\n",
      "^{10}B &\\rightarrow  ^{10}\\!B + \\gamma \\\\\n",
      "^{10}B &\\rightarrow  ^{6}\\!Li + \\alpha \\\\\n",
      "^{10}B &\\rightarrow  ^{8}\\!Be + d \\\\\n",
      "^{10}B &\\rightarrow  ^{9}\\!B + n \\\\\n",
      "^{10}B &\\rightarrow  ^{5}\\!Li + \\alpha + n\n",
      "\\end{align}$\n",
      "\n",
      "We will first calculate the Q value of these reactions from the difference in rest masses..."
     ]
    },
    {
     "cell_type": "code",
     "collapsed": false,
     "input": [
      "u2mev = 931.5016\n",
      "\n",
      "p     = 1.007825 # make sure to use the atomic mass of Hydrogen!!\n",
      "d     = 2.01410178\n",
      "n     = 1.00866491600\n",
      "alpha = 4.00260325\n",
      "\n",
      "B9    = 9.0133288\n",
      "B10   = 10.0129370\n",
      "Li5   = 5.01254\n",
      "Li6   = 6.015122795\n",
      "Be8   = 8.00530510\n",
      "Be9   = 9.0121822\n",
      "\n",
      "\n",
      "B10star = Be9 + p\n",
      "\n",
      "Q1 = (B10star - B10)*u2mev #MeV\n",
      "Q2 = (B10star - (Li6 + alpha))*u2mev #MeV\n",
      "Q3 = (B10star - (Be8 + d))*u2mev #MeV\n",
      "Q4 = (B10star - (B9 + n))*u2mev #MeV\n",
      "Q5 = (B10star - (Li5 + alpha + n))*u2mev #MeV\n",
      "\n",
      "print Q1, Q2, Q3, Q4, Q5"
     ],
     "language": "python",
     "metadata": {},
     "outputs": [
      {
       "output_type": "stream",
       "stream": "stdout",
       "text": [
        "6.58590261232 2.12489953235 0.559199040514 -1.85044283243 -3.54060591055\n"
       ]
      }
     ],
     "prompt_number": 17
    },
    {
     "cell_type": "markdown",
     "metadata": {},
     "source": [
      "*[edit: see results from above, the values below are not updated.]*\n",
      "    \n",
      "\n",
      "Exothermic reactions:\n",
      "\n",
      " * Q1 = 6.07 MeV\n",
      " * Q2 = 1.60 MeV\n",
      " * Q3 = 0.0482 MeV\n",
      " \n",
      "Endothermic reactions:\n",
      "\n",
      " * Q4 = -2.36 MeV\n",
      " * Q5 = -4.07 MeV"
     ]
    },
    {
     "cell_type": "markdown",
     "metadata": {},
     "source": [
      "Next we find the kinematic threshold energy of the proton. The first three decay reactions are exothermic and therefore have no kinematic threshold. The last two decays are endothermic (endoergic). Therefore the projectile kinetic energy must be above a threshold for the reaction to occur. This is found as\n",
      "\n",
      "$$E \\approx -\\left(1+\\cfrac{M_x}{M_X}\\right)Q$$"
     ]
    },
    {
     "cell_type": "code",
     "collapsed": false,
     "input": [
      "E1 = E2 = E3 = 0\n",
      "E4 = -(1+p/Be9)*Q4 #MeV\n",
      "E5 = -(1+p/Be9)*Q5 #MeV\n",
      "print E4, E5"
     ],
     "language": "python",
     "metadata": {},
     "outputs": [
      {
       "output_type": "stream",
       "stream": "stdout",
       "text": [
        "2.05737634822 3.93654898766\n"
       ]
      }
     ],
     "prompt_number": 18
    },
    {
     "cell_type": "markdown",
     "metadata": {},
     "source": [
      "Thus to initiate the reaction of the two endothermic reactions, from a kinematic point of view, the proton must have 2.60 and 4.48 MeV of energy, respectively."
     ]
    },
    {
     "cell_type": "markdown",
     "metadata": {},
     "source": [
      "Now we find the threshold energy of the proton from the reactions. In this case, regardless if the reaction is endo- or exothermic, the proton must overcome the coulombic forces in order to reach the nucleus. We find the kinetic energy necessary for this occur approximately as...\n",
      "\n",
      "$$E \\approx 1.2 \\cfrac{Z_xZ_X}{A_x^{1/3} + A_X^{1/3}} $$"
     ]
    },
    {
     "cell_type": "code",
     "collapsed": false,
     "input": [
      "Zp = 1.\n",
      "ZB = 4.\n",
      "Ap = 1.\n",
      "AB = 9.\n",
      "E = 1.2*(Zp*ZB)/(Ap**(1/3.) + AB**(1/3.)) # MeV\n",
      "print E"
     ],
     "language": "python",
     "metadata": {},
     "outputs": [
      {
       "output_type": "stream",
       "stream": "stdout",
       "text": [
        "1.55839914618\n"
       ]
      }
     ],
     "prompt_number": 14
    },
    {
     "cell_type": "markdown",
     "metadata": {},
     "source": [
      "Which says that even for exothermic reactions, the proton must have a minimum of 1.902 MeV of kinetic energy."
     ]
    },
    {
     "cell_type": "markdown",
     "metadata": {},
     "source": [
      "And lastly we find the minimum kinetic energy of the products"
     ]
    },
    {
     "cell_type": "code",
     "collapsed": false,
     "input": [
      "Eproducts1 = Q1 + max(E1, E)\n",
      "Eproducts2 = Q2 + max(E2, E)\n",
      "Eproducts3 = Q3 + max(E3, E)\n",
      "Eproducts4 = Q4 + max(E4, E)\n",
      "Eproducts5 = Q5 + max(E5, E)\n",
      "\n",
      "print Eproducts1, Eproducts2, Eproducts3, Eproducts4, Eproducts5"
     ],
     "language": "python",
     "metadata": {},
     "outputs": [
      {
       "output_type": "stream",
       "stream": "stdout",
       "text": [
        "8.1443017585 3.68329867853 2.11759818669 0.20693351579 0.395943077116\n"
       ]
      }
     ],
     "prompt_number": 19
    },
    {
     "cell_type": "raw",
     "metadata": {},
     "source": [
      "\\begin{table}\n",
      "    \\begin{tabular}{ccccc}\n",
      "    Reaction path            & Q-value & E_x^C & E_x^[th} & min(E_y + E_Y) \\\\\n",
      "    -                        & MeV     & MeV   & MeV      & MeV            \\\\\n",
      "    ^{10}B(p,\\gamma)^{10}\\!B & 6.586   & 0     & 1.558    & 8.144          \\\\\n",
      "    ^{10}B(p,\\alpha)^6\\!Li   & 2.125   & 0     & 1.558    & 3.683          \\\\\n",
      "    ^{10}B(p,d)^8\\!Be        & 0.559   & 0     & 1.558    & 2.117          \\\\\n",
      "    ^{10}B(p,n)^9\\!B         & -1.850  & 2.06  & 1.558    & 0.206          \\\\\n",
      "    ^{10}B(p,\\alpha n)^5\\!Li & -3.541  & 3.93  & 1.558    & 0.393          \\\\\n",
      "    \\end{tabular}\n",
      "\\end{table}"
     ]
    },
    {
     "cell_type": "markdown",
     "metadata": {},
     "source": [
      "###Problem 2 (6.8)"
     ]
    },
    {
     "cell_type": "markdown",
     "metadata": {},
     "source": [
      "#####part a\n",
      "The isotope $^{18}$F is usually produced from the $^{18}O(p,n)^{18}\\!F$ reaction. But it can also originate from the $^{16}O(t,n)^{18}\\!F$."
     ]
    },
    {
     "cell_type": "markdown",
     "metadata": {},
     "source": [
      "#####part b\n",
      "The Q values of these two reactions are..."
     ]
    },
    {
     "cell_type": "code",
     "collapsed": false,
     "input": [
      "O16 = 15.999\n",
      "F18 = 18.0009380\n",
      "t   = 3.0160492\n",
      "\n",
      "Q22 = ((O16 + t) - (F18 + n))*u2mev #MeV\n",
      "\n",
      "print  Q22"
     ],
     "language": "python",
     "metadata": {},
     "outputs": [
      {
       "output_type": "stream",
       "stream": "stdout",
       "text": [
        "5.07322226005\n"
       ]
      }
     ],
     "prompt_number": 21
    },
    {
     "cell_type": "markdown",
     "metadata": {},
     "source": [
      "Oxygen 18 has a Q value of -2.95 MeV and the reaction from Oxygen 16 liberated 5.07 MeV"
     ]
    },
    {
     "cell_type": "markdown",
     "metadata": {},
     "source": [
      "#####part c\n",
      "\n",
      "The oxygen-16 reaction is exothermic so it has no kinematic threshold. It does, however, have a coulombic threshold:"
     ]
    },
    {
     "cell_type": "code",
     "collapsed": false,
     "input": [
      "E22 = 1.2*8/(3**(1./3) + 16**(1./3))\n",
      "print E22"
     ],
     "language": "python",
     "metadata": {},
     "outputs": [
      {
       "output_type": "stream",
       "stream": "stdout",
       "text": [
        "2.42296261655\n"
       ]
      }
     ],
     "prompt_number": 12
    },
    {
     "cell_type": "markdown",
     "metadata": {},
     "source": [
      "So the tritium must have more than 2.42 MeV of kinetic energy in order to react with the oxygen."
     ]
    },
    {
     "cell_type": "markdown",
     "metadata": {},
     "source": [
      "#####part d\n",
      "To determine if a thermal neutron can produce fluorine-18, we must analyze the lithium reaction. I am intimately familiar with this reaction as it is the tritium generation reaction to be used in fusion breeding blankets. It is $^{6}Li(n, \\alpha) T$"
     ]
    },
    {
     "cell_type": "code",
     "collapsed": false,
     "input": [
      "Q23 = ((Li6 + n)-(alpha+t))*u2mev #MeV\n",
      "print Q23\n",
      "print Q23*4/(4+3)"
     ],
     "language": "python",
     "metadata": {},
     "outputs": [
      {
       "output_type": "stream",
       "stream": "stdout",
       "text": [
        "4.78350383792\n",
        "2.73343076452\n"
       ]
      }
     ],
     "prompt_number": 9
    },
    {
     "cell_type": "markdown",
     "metadata": {},
     "source": [
      "This exothermic reaction releases 4.76 MeV. The amount of kinetic energy shared by the tritium, specifically is 2.73 MeV. This value is greater than 2.42 MeV which is the treshold found above. Therefore, any thermal neutron striking lithium-6 would then produce a tritium with enough energy to interact with oxygen-16 and produce fluorine-18."
     ]
    },
    {
     "cell_type": "markdown",
     "metadata": {},
     "source": [
      "###Problem 3 (6.11)"
     ]
    },
    {
     "cell_type": "markdown",
     "metadata": {},
     "source": [
      "For elastic collisions with neutrons, the largest possible elastic energy is from glancing reactions, where $E_{max} = E_1$. The minimum is a backscatter when $E_{min} = \\alpha E_1$. The average of these is $E_{av} = \\frac{1}{2}\\left(E_{max} + E_{min}\\right)$. The difference in energy, on average, is then simply $E - E_{ave}$. The logarithmic drop is found (with lots of algebra) as\n",
      "\n",
      "$$ \\xi = \\ln\\left(\\cfrac{E}{E_{av}}\\right) = 1 + \\cfrac{\\alpha}{1-\\alpha}\\ln\\alpha$$\n",
      "\n",
      "Which says that, on average, every collision causes a logarithmic drop in energy (linearly). So after $n$ collisions, a neutron with an initial energy of $E_i$ will have a final energy of $E_f$...\n",
      "\n",
      "$$\\ln\\left(\\cfrac{E_i}{E_f}\\right) = n\\xi$$\n",
      "\n",
      "Knowing we want to drop a neutron from 1 MeV down to 1 eV, we can then solve for $n$...\n",
      "                            "
     ]
    },
    {
     "cell_type": "code",
     "collapsed": false,
     "input": [
      "A = array([16, 56])\n",
      "alphaEnergy = (A-1.)**2./(A+1.)**2.\n",
      "xsi = 1+alphaEnergy/(1-alphaEnergy) * log(alphaEnergy)\n",
      "En0 = 1.*10**6 #eV\n",
      "EnF = 1. #eV\n",
      "nColl = 1/xsi * log(En0/EnF)\n",
      "print nColl"
     ],
     "language": "python",
     "metadata": {},
     "outputs": [
      {
       "output_type": "stream",
       "stream": "stdout",
       "text": [
        "[ 115.1804609   391.45343354]\n"
       ]
      }
     ],
     "prompt_number": 12
    },
    {
     "cell_type": "markdown",
     "metadata": {},
     "source": [
      "So oxygen would need 115 to 116 collisions to slow down the neutron while the comparatively heavier Iron woudl need more than 391 collisions. The result shows how much more effective light elements are at slowing down neutrons."
     ]
    },
    {
     "cell_type": "markdown",
     "metadata": {},
     "source": [
      "###Problem 4 (6.13)"
     ]
    },
    {
     "cell_type": "markdown",
     "metadata": {},
     "source": [
      "#####part a\n",
      "If a neutron-induced fission of uranium-235 produces 4 prompt neutrons and $^{121}$Ag plus another fission fragment, we can find the fragment from a balance of nucleons and protons. I.e...\n",
      "\n",
      "$$ \\begin{align}\n",
      "A &= (235 + 1) - (121 + 4) = 111\\\\\n",
      "Z &= 92 - 47 = 45\n",
      "\\end{align}$$\n",
      "\n",
      "Thus the element is $^{111}$Rh\n",
      "\n",
      "#####part b\n",
      "\n",
      "The amount of energy promptly released can be found from mass defects..."
     ]
    },
    {
     "cell_type": "code",
     "collapsed": false,
     "input": [
      "U235 = 235.0439299\n",
      "Ag121 = 120.91985\n",
      "Rh111 = 110.91159\n",
      "\n",
      "QU = ((U235 + n) - (4*n + Ag121 + Rh111))*u2mev\n",
      "print QU #MeV"
     ],
     "language": "python",
     "metadata": {},
     "outputs": [
      {
       "output_type": "stream",
       "stream": "stdout",
       "text": [
        "173.72053248\n"
       ]
      }
     ],
     "prompt_number": 10
    },
    {
     "cell_type": "markdown",
     "metadata": {},
     "source": [
      "#####part c\n",
      "The kinetic energy of the two fission fragments obeys conservation of momentum, therefore the ratio of the two follow as:\n",
      "\n",
      "$$ \\cfrac{E_L}{E_H} = \\cfrac{m_H}{m_L}$$\n",
      "\n",
      "and $E_L + E_H = E_{tot}$. So we can solve for the lighter one as...\n",
      "\n",
      "$$ E_L = \\cfrac{\\chi}{1+\\chi}E_{tot}$$\n",
      "\n",
      "and the heavier as\n",
      "\n",
      "$$ E_H = \\cfrac{1}{1+\\chi}E_{tot}$$\n",
      "\n",
      "where $\\chi = \\frac{m_H}{m_L}$"
     ]
    },
    {
     "cell_type": "code",
     "collapsed": false,
     "input": [
      "chi = Ag121/Rh111\n",
      "Etot = 150 #MeV\n",
      "ERh = chi/(1+chi)*Etot\n",
      "EAg = 1/(1+chi)*Etot\n",
      "\n",
      "print ERh,EAg"
     ],
     "language": "python",
     "metadata": {},
     "outputs": [
      {
       "output_type": "stream",
       "stream": "stdout",
       "text": [
        "78.2377812949 71.7622187051\n"
       ]
      }
     ],
     "prompt_number": 11
    },
    {
     "cell_type": "markdown",
     "metadata": {},
     "source": [
      "The energy is nearly equally partitioned between the two fragments, with the silver having slightly less kinetic energy than rhodium, with 78.2 and 71.8 MeV respectively."
     ]
    },
    {
     "cell_type": "markdown",
     "metadata": {},
     "source": [
      "#####part d\n",
      "We found the Q value of this fission to be 173.7 MeV. If the fission fragments' energy is 150, then the remaining 23.7 MeV must be shared by the 4 prompt neutrons."
     ]
    },
    {
     "cell_type": "markdown",
     "metadata": {},
     "source": [
      "###Problem 5 (6.15)"
     ]
    },
    {
     "cell_type": "markdown",
     "metadata": {},
     "source": [
      "If uranium-235 is producing 100 W of thermal power, and we assume 200 MeV per fission, we can find the rate of fissions from simply balancing units (after converting MeV to J). In other words, $P~[\\text{J/s}] = E_{fiss}~[\\text{J/fission}] * \\eta~[\\text{fission/s}]$. Thus $\\eta = P/E$"
     ]
    },
    {
     "cell_type": "code",
     "collapsed": false,
     "input": [
      "Efiss = 200 # MeV\n",
      "Power = 100 # J/s\n",
      "mev2j = 1.602*10**(-13.)\n",
      "\n",
      "eta = Power / (Efiss * mev2j) # reac/s\n",
      "print eta"
     ],
     "language": "python",
     "metadata": {},
     "outputs": [
      {
       "output_type": "stream",
       "stream": "stdout",
       "text": [
        "3.12109862672e+12\n"
       ]
      }
     ],
     "prompt_number": 15
    },
    {
     "cell_type": "markdown",
     "metadata": {},
     "source": [
      "fissions per second must occur to produce 100 W of power."
     ]
    },
    {
     "cell_type": "code",
     "collapsed": false,
     "input": [
      "y2s = 365*24*3600\n",
      "nReax = 1*y2s*eta\n",
      "print nReax"
     ],
     "language": "python",
     "metadata": {},
     "outputs": [
      {
       "output_type": "stream",
       "stream": "stdout",
       "text": [
        "9.84269662921e+19\n"
       ]
      }
     ],
     "prompt_number": 16
    },
    {
     "cell_type": "markdown",
     "metadata": {},
     "source": [
      "After 1 year of producing 100 W of energy, there were $9.84 \\times 10^{19}$ fission events. If some fraction, k, of those fission events resulted in the creation of $^{99}$Sr, then through the 'instant' decay chain down to $^{99}$Tc, we'd have that many number of Tc atoms. From figure 6.6, obtaining a fission fragment with an atomic number of 99 happens in roughly 6% of the fission events, i.e. k = 0.06"
     ]
    },
    {
     "cell_type": "code",
     "collapsed": false,
     "input": [
      "k = 0.06\n",
      "NTc = nReax * k\n",
      "print NTc\n",
      "NA = 6.0221413e+23 # #/mol\n",
      "A1 = 98.9062547 # g/mol"
     ],
     "language": "python",
     "metadata": {},
     "outputs": [
      {
       "output_type": "stream",
       "stream": "stdout",
       "text": [
        "5.90561797753e+18\n"
       ]
      }
     ],
     "prompt_number": 17
    },
    {
     "cell_type": "markdown",
     "metadata": {},
     "source": [
      "So in 1 year, $5.91 \\times 10^{18}$ atoms of $^{99}$Tc are created. I won't consider the decay of technetium because it's half life is 2.11 million years -- and anticipate negligible loss of atoms in 1 year."
     ]
    }
   ],
   "metadata": {}
  }
 ]
}