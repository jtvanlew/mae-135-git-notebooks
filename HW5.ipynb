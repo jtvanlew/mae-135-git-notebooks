{
 "metadata": {
  "name": ""
 },
 "nbformat": 3,
 "nbformat_minor": 0,
 "worksheets": [
  {
   "cells": [
    {
     "cell_type": "heading",
     "level": 1,
     "metadata": {},
     "source": [
      "MAE 135 - Fundamentals of Nuclear Science"
     ]
    },
    {
     "cell_type": "markdown",
     "metadata": {},
     "source": [
      "##Homework 5\n",
      "Jon Van Lew  \n",
      "UCLA  \n",
      "2013, Fall  "
     ]
    },
    {
     "cell_type": "heading",
     "level": 3,
     "metadata": {},
     "source": [
      "Problem 1 (2.10)"
     ]
    },
    {
     "cell_type": "code",
     "collapsed": false,
     "input": [
      "theta = 55 * pi/180 # rad\n",
      "mec2 = 0.511 # MeV\n",
      "E = 1 # MeV\n",
      "Eprime = 1./(1/mec2*(1-cos(theta)) + 1/E)\n",
      "\n",
      "print 'part (a), the energy of the scattered photon: ' + str(Eprime) + ' MeV'\n",
      "hmec = 2.431*10**-6 # micrometer\n",
      "deltalambda = hmec*(1-cos(theta))\n",
      "print 'part (b), the change in wavelength: ' + str(deltalambda) + ' micrometer'\n",
      "print 'part (a), the energy of the scattered electron: ' + str(E-Eprime) + ' MeV'"
     ],
     "language": "python",
     "metadata": {},
     "outputs": [
      {
       "output_type": "stream",
       "stream": "stdout",
       "text": [
        "part (a), the energy of the scattered photon: 0.545111110724 MeV\n",
        "part (b), the change in wavelength: 1.03663568323e-06 micrometer\n",
        "part (a), the energy of the scattered electron: 0.454888889276 MeV\n"
       ]
      }
     ],
     "prompt_number": 4
    },
    {
     "cell_type": "heading",
     "level": 3,
     "metadata": {},
     "source": [
      "Problem 2 (7.1)"
     ]
    },
    {
     "cell_type": "markdown",
     "metadata": {},
     "source": [
      "A slab 6 cm thick is hit by a beam of neutrons. The transmitted intensity through the slab is 30% of the incident. What is the total interaction coefficient ($\\mu_t$) for the slab material? What is the average distance a neutron travels in the material before interacting?"
     ]
    },
    {
     "cell_type": "markdown",
     "metadata": {},
     "source": [
      "The interaction coefficient is found from the simple exponential decay equation...  \n",
      "\n",
      "$$\\begin{align}\n",
      "I(x) &= I_0e^{-\\mu_t x} \\\\\n",
      "\\mu_t & = -\\cfrac{\\ln{I_f/I_0}}{x_f}\n",
      "\\end{align}$$"
     ]
    },
    {
     "cell_type": "code",
     "collapsed": false,
     "input": [
      "mu_t = -log(0.3)/6\n",
      "print 'Interaction coefficient: ' + str(round(mu_t,3)) + ' /cm'"
     ],
     "language": "python",
     "metadata": {},
     "outputs": [
      {
       "output_type": "stream",
       "stream": "stdout",
       "text": [
        "Interaction coefficient: 0.201 /cm\n"
       ]
      }
     ],
     "prompt_number": 9
    },
    {
     "cell_type": "markdown",
     "metadata": {},
     "source": [
      "The average distance traveled by a neutron is then based on the interaction coefficient as\n",
      "\n",
      "$\\bar{x} = \\cfrac{1}{\\mu_t}$"
     ]
    },
    {
     "cell_type": "code",
     "collapsed": false,
     "input": [
      "print 'Mean free path in this material: ' + str(round(1/mu_t,2)) + ' cm'"
     ],
     "language": "python",
     "metadata": {},
     "outputs": [
      {
       "output_type": "stream",
       "stream": "stdout",
       "text": [
        "Mean free path in this material: 4.98 cm\n"
       ]
      }
     ],
     "prompt_number": 10
    },
    {
     "cell_type": "markdown",
     "metadata": {},
     "source": [
      "###Problem 3 (7.5)\n",
      "\n",
      "In natural uranium, 0.72% of the atoms are the 235 isotope. 0.0055% are the 234 isotope, and the remainder are 238. From Table C.1, what is the total linear interaction coefficient (macroscopic x-sec) for a thermal neutron in natural uranium? What is the total macroscopic x-sec for thermal neutrons?"
     ]
    },
    {
     "cell_type": "code",
     "collapsed": false,
     "input": [
      "m_fracs = array([0.0055/100, .720/100, 1-0.0055/100-.720/100])\n",
      "\n",
      "rhoU = 19.1 #g/cm3\n",
      "AU = array([234.043302, 235.0439231, 238.0507826])\n",
      "N = rhoU*Na/AU\n",
      "\n",
      "sigmat = array([116.,700.,12.2])/10**24. #cm2\n",
      "\n",
      "sigmaf = array([0.465, 587, 11.8/10**6.])/10**24. #cm2\n",
      "\n",
      "Na = 6.0221415*10**23 # #/mol\n",
      "\n",
      "\n",
      "SigmaT = sum(N*m_fracs*sigmat)\n",
      "\n",
      "SigmaF = sum(N*m_fracs*sigmaf)\n",
      "\n",
      "print 'Total macroscopic cross-sections ' + str(SigmaT) + ' /cm'\n",
      "print 'Fission macroscopic cross-sections ' + str(SigmaF) + ' /cm'"
     ],
     "language": "python",
     "metadata": {},
     "outputs": [
      {
       "output_type": "stream",
       "stream": "stdout",
       "text": [
        "Total macroscopic cross-sections 0.832165556206 /cm\n",
        "Fission macroscopic cross-sections 0.206828185149 /cm\n"
       ]
      }
     ],
     "prompt_number": 33
    },
    {
     "cell_type": "markdown",
     "metadata": {},
     "source": [
      "###Problem 4 (7.10)\n",
      "\n",
      "A 1-mCi source of $^{60}$Co is placed in the center of a cylindrical water-filled tank with an inside diameter of 20 cm and depth of 100 cm. The tank is made of iron with a wall thickness of 1 cm. What is the uncollided flux density at the outer surface of the tank nearest the source?\n",
      "\n",
      "Cobalt 60 has, on average, 2 $\\gamma$ radiations per decay. Both of the $\\gamma$ decays are around 1.2 MeV, so from the table, the microscopic cross-sections were taken for the entry of 1.25 MeV. Using the equations for a point source in an interacting medium, we can find the uncollided flux density through the two thicknesses as..."
     ]
    },
    {
     "cell_type": "code",
     "collapsed": false,
     "input": [
      "Sp = 1*10**(-3) # Ci\n",
      "ri = 10 # cm\n",
      "\n",
      "rhoFe = 7.874 # g/cm3\n",
      "muFerho = 5.322*10**-2 # cm2/g\n",
      "muFe = muFerho*rho\n",
      "\n",
      "muw = 6.32*10**-2\n",
      "\n",
      "phii = Sp*2/(4*pi*(ri+1)**2.)*exp(-muw*ri -muFe*1.)\n",
      "\n",
      "print 'Energy flux at the outside wall of the 1 cm iron\\\n",
      " casing: ' + str(phii*10**6) + ' micro-Ci'"
     ],
     "language": "python",
     "metadata": {},
     "outputs": [
      {
       "output_type": "stream",
       "stream": "stdout",
       "text": [
        "Energy flux at the outside wall of the 1 cm iron casing: 0.482204040955 micro-Ci\n"
       ]
      }
     ],
     "prompt_number": 55
    },
    {
     "cell_type": "markdown",
     "metadata": {},
     "source": [
      "###Problem 5 (7.12)\n",
      "\n",
      "From Fig. 7.7, the total micro x-sec in iron for neutrons with energy of 27 keV is about 0.4 b, and for a neutron with an energy of 28 keV about 90 b. (a) Estimate the fraction of 27 keV neutrons that pass through a 10 cm thick slab without interaction and (b) the fraction for 28 keV neutrons.\n",
      "\n",
      "The exponential part of exponential decays is also considered a 'fraction' of the survivors. So if we consider a linear slab..."
     ]
    },
    {
     "cell_type": "code",
     "collapsed": false,
     "input": [
      "b2cm2 = 10**-24.\n",
      "mut = array([0.4, 90]) # b\n",
      "rho = 6.98 # g/cm3\n",
      "AFe = 55.845 # g/mol\n",
      "\n",
      "N = rho*Na/AFe\n",
      "Sigma = mut*b2cm2*N\n",
      "print 'Macroscopic x-sec; ' + str(Sigma) + ' /cm'\n",
      "\n",
      "f = exp(-Sigma*10)\n",
      "\n",
      "print 'Probability (%) of neutrons with 27 keV and 28 keV \\\n",
      "to pass through 10 cm of Iron, respectively: ' + str(f*100)"
     ],
     "language": "python",
     "metadata": {},
     "outputs": [
      {
       "output_type": "stream",
       "stream": "stdout",
       "text": [
        "Macroscopic x-sec; [ 0.03   6.774] /cm\n",
        "Probability (%) of neutrons with 27 keV and 28 keV to pass through 10 cm of Iron, respectively: [  7.400e+01   3.798e-28]\n"
       ]
      }
     ],
     "prompt_number": 57
    },
    {
     "cell_type": "markdown",
     "metadata": {},
     "source": [
      "that last probability is small that it's essentially 0. to be clean, the values are 74% and 0%, respectively"
     ]
    },
    {
     "cell_type": "markdown",
     "metadata": {},
     "source": [
      "###Problem 6 (7.13)\n",
      "\n",
      "When an electron moving through air has 5 MeV of energy, what is the ratio of the rates of energy loss by bremsstrauhlung to that by collision? What is the ratio for lead?\n",
      "\n",
      "Even though an electron is the lightest possible charged particle, apparently Fultis & Shaw used the equation that was noted for heavy particles. I will use the same..."
     ]
    },
    {
     "cell_type": "code",
     "collapsed": false,
     "input": [
      "E = 5\n",
      "Z = array([7, 82])\n",
      "\n",
      "G = E/700.*Z\n",
      "\n",
      "print 'Ratios of radiation to collision stopping energy for a 5 MeV \\\n",
      "electron passing through air and iron, respectively :' + str(G)"
     ],
     "language": "python",
     "metadata": {},
     "outputs": [
      {
       "output_type": "stream",
       "stream": "stdout",
       "text": [
        "Ratios of radiation to collision stopping energy for a 5 MeV electron passing through air and iron, respectively :[ 0.05   0.586]\n"
       ]
      }
     ],
     "prompt_number": 56
    },
    {
     "cell_type": "code",
     "collapsed": false,
     "input": [],
     "language": "python",
     "metadata": {},
     "outputs": []
    }
   ],
   "metadata": {}
  }
 ]
}