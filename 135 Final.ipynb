{
 "metadata": {
  "name": ""
 },
 "nbformat": 3,
 "nbformat_minor": 0,
 "worksheets": [
  {
   "cells": [
    {
     "cell_type": "code",
     "collapsed": false,
     "input": [
      "%pylab inline\n",
      "from IPython.core.display import HTML\n",
      "def css_styling():\n",
      "    styles = open(\"styles/custom.css\", \"r\").read()\n",
      "    return HTML(styles)\n",
      "css_styling()\n"
     ],
     "language": "python",
     "metadata": {},
     "outputs": [
      {
       "output_type": "stream",
       "stream": "stdout",
       "text": [
        "Populating the interactive namespace from numpy and matplotlib\n"
       ]
      },
      {
       "html": [
        "\n",
        "\n",
        "\n",
        "\n",
        "<style>\n",
        "    @import url(http://fonts.googleapis.com/css?family=Crimson+Text);\n",
        "    @font-face {\n",
        "\n",
        "        font-family: \"Computer Modern\";\n",
        "        src: url('http://mirrors.ctan.org/fonts/cm-unicode/fonts/otf/cmunss.otf');\n",
        "    }\n",
        "    div.cell{\n",
        "        width:800px;\n",
        "        margin-left:16% !important;\n",
        "        margin-right:auto;\n",
        "    }\n",
        "    \n",
        "    div.text_cell_render{\n",
        "        font-family: \"Crimson Text\", \"Helvetica Neue\", Arial, Helvetica, Geneva, sans-serif;\n",
        "        line-height: 135%;\n",
        "        font-size: 150%;\n",
        "        width:600px;\n",
        "        margin-left:auto;\n",
        "        margin-right:auto;\n",
        "    }\n",
        "    .CodeMirror{\n",
        "            font-family: \"Source Code Pro\", source-code-pro,Consolas, monospace;\n",
        "            font-size: 110%;\n",
        "    }\n",
        "/*    .prompt{\n",
        "        display: None;\n",
        "    }*/\n",
        "    .text_cell_render h5 {\n",
        "        font-weight: 300;\n",
        "        font-size: 16pt;\n",
        "        color: #4057A1;\n",
        "        font-style: italic;\n",
        "        margin-bottom: .5em;\n",
        "        margin-top: 0.5em;\n",
        "        display: block;\n",
        "    }\n",
        "    \n",
        "    .warning{\n",
        "        color: rgb( 240, 20, 20 )\n",
        "        }  \n",
        "</style>\n",
        "<script>\n",
        "    MathJax.Hub.Config({\n",
        "                        TeX: {\n",
        "                           extensions: [\"AMSmath.js\"]\n",
        "                           },\n",
        "                tex2jax: {\n",
        "                    inlineMath: [ ['$','$'], [\"\\\\(\",\"\\\\)\"] ],\n",
        "                    displayMath: [ ['$$','$$'], [\"\\\\[\",\"\\\\]\"] ]\n",
        "                },\n",
        "                displayAlign: 'center', // Change this to 'center' to center equations.\n",
        "                \"HTML-CSS\": {\n",
        "                    styles: {'.MathJax_Display': {\"margin\": 4}},\n",
        "                }\n",
        "        });\n",
        "</script>"
       ],
       "metadata": {},
       "output_type": "pyout",
       "prompt_number": 26,
       "text": [
        "<IPython.core.display.HTML at 0x3adc4d0>"
       ]
      }
     ],
     "prompt_number": 26
    },
    {
     "cell_type": "markdown",
     "metadata": {},
     "source": [
      "# MAE 135 Fundamentals of Nuclear Science and Engineering -- Final Exam  \n",
      "Jon Van Lew  \n",
      "203751638  \n",
      "\n",
      "##Problem 1\n",
      "_Statement_: \n",
      "\n",
      "It is desired to study the first excited state of $^{16}$O, which is at 6.049 MeV above the ground state.\n",
      "\n",
      "A) Using the ($\\alpha$,n) reaction on a target $^{13}$C, what is the minimum energy of incident alphas which will populate the excited state?\n",
      "\n",
      "B) In what direction with the resulting neutron travel?\n",
      "\n",
      "C) If it is desired to detect the neutrons at 90$^\\circ$ to the incident beam, what is the minimum $\\alpha$ energy that can result in the excited state being populated?"
     ]
    },
    {
     "cell_type": "markdown",
     "metadata": {},
     "source": [
      "_Solution_:\n",
      "\n",
      "A)\n",
      "We first analyze the energetics of the $^{13}$C($\\alpha$,n)$^{16}$O$^*$ reaction -- the Q value of the reaction. First the masses of all the reactants and products"
     ]
    },
    {
     "cell_type": "code",
     "collapsed": false,
     "input": [
      "u2mev = 931.5016\n",
      "mev2u = 1/u2mev\n",
      "\n",
      "# Masses of elements\n",
      "n     = 1.00866491600\n",
      "alpha = 4.00260325\n",
      "\n",
      "C13_mass = 13.0033548378\n",
      "O16_mass = 15.9949146221 + (6.049*mev2u)"
     ],
     "language": "python",
     "metadata": {},
     "outputs": [],
     "prompt_number": 24
    },
    {
     "cell_type": "markdown",
     "metadata": {},
     "source": [
      "We have accounted for the excited state of $^{16}$O by including that excited energy in the mass."
     ]
    },
    {
     "cell_type": "markdown",
     "metadata": {},
     "source": [
      "Then the binding energy is found"
     ]
    },
    {
     "cell_type": "code",
     "collapsed": false,
     "input": [
      "Qalphan = (C13_mass + alpha - (O16_mass + n))*u2mev #MeV\n",
      "print str(round(Qalphan,2)) + ' MeV'"
     ],
     "language": "python",
     "metadata": {},
     "outputs": [
      {
       "output_type": "stream",
       "stream": "stdout",
       "text": [
        "-3.83 MeV\n"
       ]
      }
     ],
     "prompt_number": 25
    },
    {
     "cell_type": "markdown",
     "metadata": {},
     "source": [
      "And the reaction is clearly endothermic (negative Q value). Being endothermic means there is a kinematic threshold that the incident $\\alpha$ particle must overcome to induce the reaction. This value is approximated as\n",
      "\n",
      "$$ E_{k,th} \\approx -\\left(1+\\cfrac{M_x}{M_X}\\right)Q$$"
     ]
    },
    {
     "cell_type": "code",
     "collapsed": false,
     "input": [
      "Ekth = -(1+alpha/C13_mass)*Qalphan\n",
      "print str(round(Ekth,2)) + ' MeV'"
     ],
     "language": "python",
     "metadata": {},
     "outputs": [
      {
       "output_type": "stream",
       "stream": "stdout",
       "text": [
        "5.01 MeV\n"
       ]
      }
     ],
     "prompt_number": 9
    },
    {
     "cell_type": "markdown",
     "metadata": {},
     "source": [
      "However, because the alpha particle is not a neutral particle, it also must overcome the Coulomb threshold. This value is approximated as\n",
      "\n",
      "$$E_{C,th} \\approx 1.2\\cfrac{Z_xZ_X}{A_x^{1/3} + A_X^{1/3}}$$"
     ]
    },
    {
     "cell_type": "code",
     "collapsed": false,
     "input": [
      "CZ = 6\n",
      "CA = 13\n",
      "\n",
      "alphaZ = 2\n",
      "alphaA = 4\n",
      "\n",
      "ECth = 1.2*alphaZ*CZ/(alphaA**(1/3.) + CA**(1/3.))\n",
      "print str(round(ECth,2)) + ' MeV'"
     ],
     "language": "python",
     "metadata": {},
     "outputs": [
      {
       "output_type": "stream",
       "stream": "stdout",
       "text": [
        "3.66 MeV\n"
       ]
      }
     ],
     "prompt_number": 10
    },
    {
     "cell_type": "markdown",
     "metadata": {},
     "source": [
      "Whicever barrier is greatest, is the one which dictates the minimum energy of incident $\\alpha$ particles. ${\\it i.e.}$\n",
      "\n",
      "$$E_{th} = \\max\\left[{E_{k,th},E_{C,th}}\\right]$$"
     ]
    },
    {
     "cell_type": "code",
     "collapsed": false,
     "input": [
      "Eth = max(Ekth,ECth)\n",
      "print 'Minimum energy of incident particle: '+ str(round(Eth,2)) + ' MeV'"
     ],
     "language": "python",
     "metadata": {},
     "outputs": [
      {
       "output_type": "stream",
       "stream": "stdout",
       "text": [
        "Minimum energy of incident particle: 5.01 MeV\n"
       ]
      }
     ],
     "prompt_number": 11
    },
    {
     "cell_type": "markdown",
     "metadata": {},
     "source": [
      "And we didn't really need the code to tell us that the kinematic barrier was greater."
     ]
    },
    {
     "cell_type": "markdown",
     "metadata": {},
     "source": [
      "B)\n",
      "Now we find the direction of resulting neutrons. From conservation of momentum, we can eventually arrive at equation 6.13 from Fultis & Shaw.\n",
      "\n",
      "$$ E_x = -\\cfrac{(m_y + m_Y)Q}{m_Y+m_y-m_x-(m_xm_y/m_Y)\\sin^2\\theta_y}$$\n",
      "\n",
      "When we find the minimum energy of incident $\\alpha$ particle, this happens when $\\theta_y=0$. In other words, it travels in the same direction as the incident beam of $\\alpha$ particles. \n",
      "\n",
      "This conclusion is what allowed us to approximate the kinematic threshold in the first place. However, we can also solve for the neutron's angle as a function of incident kinetic energy of the $\\alpha$ particle. This is...\n",
      "\n",
      "$$\\sin^2\\theta_y = \\cfrac{(m_y + m_Y)\\frac{Q}{E_x} - (m_Y+m_y-m_x)}{(m_xm_y/m_Y)}$$"
     ]
    },
    {
     "cell_type": "markdown",
     "metadata": {},
     "source": [
      "C)\n",
      "\n",
      "We use the result of part (B), with $\\theta_y = \\pi/2$ to find $E_x$\n",
      "\n",
      "$$\\begin{align}\n",
      "E_x &= -\\cfrac{(m_y + m_Y)Q}{m_Y+m_y-m_x-(m_xm_y/m_Y)\\sin^2(\\pi/2)}\\\\\n",
      "& = -\\cfrac{(m_y + m_Y)}{m_Y+m_y-m_x-(m_xm_y/m_Y)}Q\n",
      "\\end{align}$$"
     ]
    },
    {
     "cell_type": "code",
     "collapsed": false,
     "input": [
      "Ex = -((O16_mass + n)/(O16_mass + n - alpha - (alpha*n/O16_mass)))*Qalphan\n",
      "print 'Incident energy of alpha particles '+str(round(Ex,2)) + ' MeV'"
     ],
     "language": "python",
     "metadata": {},
     "outputs": [
      {
       "output_type": "stream",
       "stream": "stdout",
       "text": [
        "Incident energy of alpha particles 5.11 MeV\n"
       ]
      }
     ],
     "prompt_number": 12
    },
    {
     "cell_type": "markdown",
     "metadata": {},
     "source": [
      "Thus to send the neutron out perpendicular to incident beam of $\\alpha$ particles, it must have an energy higher than the minimum energy to overcome the kinematic threshold -- but not tremendously higher."
     ]
    },
    {
     "cell_type": "markdown",
     "metadata": {},
     "source": [
      "## Problem 2\n",
      "_Statement_:\n",
      "\n",
      "What is the maximum possible kinetic energy (keV) of a Compton electron resulting from scattering of a: (1) 100 keV photon, (2) 1 MeV photon, (2) 10 MeV photon.\n",
      "\n",
      "Estimate for each case the range the electron would have in water of 1 g/cm$^3$ density and in aluminum of 2.7 g/cm$^3$ density."
     ]
    },
    {
     "cell_type": "markdown",
     "metadata": {},
     "source": [
      "_Solution_:\n",
      "\n",
      "The scattered photon energy is found from conservation of momentum, the result is Eq. 2.26 in Shultis & Faw:\n",
      "\n",
      "$$\\cfrac{1}{E'} - \\cfrac{1}{E_i} = \\cfrac{1}{m_ec^2}(1-\\cos\\theta_s)$$\n",
      "\n",
      "Conservation of energy given to an electron by compton scattering then gives the kinetic energy of the electron as\n",
      "\n",
      "$$T_e = E_i\\left[1-\\cfrac{1}{1+\\frac{E_i}{m_ec^2}(1-\\cos\\theta_s)}\\right]$$\n",
      "\n",
      "The value of electron energy is then a maximum when $\\theta_s = \\pi$ -- meaning the photon gets sent back from the direction it came. And then\n",
      "\n",
      "$$T_\\text{max} = E_i\\left[1-\\cfrac{1}{1+2\\frac{E_i}{m_ec^2}}\\right]$$"
     ]
    },
    {
     "cell_type": "code",
     "collapsed": false,
     "input": [
      "E = array([0.1, 1.0, 10.]) #MeV\n",
      "Ee = 0.511 #Mev\n",
      "\n",
      "Emax = E*(1-1./(1+2.*E/Ee))\n",
      "print 'Maximum electron energies for 3 given incident energies:'\n",
      "for i in Emax:\n",
      "    print str(round(i*1000,1))+' keV'"
     ],
     "language": "python",
     "metadata": {},
     "outputs": [
      {
       "output_type": "stream",
       "stream": "stdout",
       "text": [
        "Maximum electron energies for 3 given incident energies:\n",
        "28.1 keV\n",
        "796.5 keV\n",
        "9750.9 keV\n"
       ]
      }
     ],
     "prompt_number": 13
    },
    {
     "cell_type": "markdown",
     "metadata": {},
     "source": [
      "The mean free path of an electron moving through matter is approximated by the formula\n",
      "\n",
      "$$ \\rho R = 10^{a+bx +cx^2}$$\n",
      "\n",
      "where $x=\\log_{10}E$, and the empirical constants are given in Table 7.2 of Shultis & Faw."
     ]
    },
    {
     "cell_type": "code",
     "collapsed": false,
     "input": [
      "water = array([-0.38240, 1.2799, -0.17378])\n",
      "aluminum = array([-0.27957, 1.2492, -0.18247])\n",
      "\n",
      "rho_w = 1\n",
      "rho_al = 2.7\n",
      "\n",
      "x = log10(Emax)\n",
      "R_w = (10.**(water[0]+water[1]*x+water[2]*x**2.))\n",
      "R_al = (10.**(aluminum[0]+aluminum[1]*x+aluminum[2]*x**2.))/rho_al\n",
      "\n",
      "print 'Approximate range of an electron (of given energies) in water:'\n",
      "for i in R_w:\n",
      "    print str(round(i,3))+' cm'\n",
      "    \n",
      "print 'Approximate range of an electron (of given energies) in Aluminum:'\n",
      "for i in R_al:\n",
      "    print str(round(i,3))+' cm'"
     ],
     "language": "python",
     "metadata": {},
     "outputs": [
      {
       "output_type": "stream",
       "stream": "stdout",
       "text": [
        "Approximate range of an electron (of given energies) in water:\n",
        "0.002 cm\n",
        "0.309 cm\n",
        "5.17 cm\n",
        "Approximate range of an electron (of given energies) in Aluminum:\n",
        "0.001 cm\n",
        "0.146 cm\n",
        "2.219 cm\n"
       ]
      }
     ],
     "prompt_number": 14
    },
    {
     "cell_type": "code",
     "collapsed": false,
     "input": [
      "%%html\n",
      "<table>\n",
      "<tr><th>E</th><th>T_max</th><th>R_w</th><th>R_Al</th></tr>\n",
      "<tr><td>MeV</td><td>MeV</td><td>cm</td><td>cm</td></tr>\n",
      "<tr><td>0.1</td><td>0.028</td><td>0.002</td><td>0.001</td></tr>\n",
      "<tr><td>1.0</td><td>0.796</td><td>0.309</td><td>0.146</td></tr>\n",
      "<tr><td>10.0</td><td>9.751</td><td>5.170</td><td>2.219</td></tr>\n",
      "</table>"
     ],
     "language": "python",
     "metadata": {},
     "outputs": [
      {
       "html": [
        "<table>\n",
        "<tr><th>E</th><th>T_max</th><th>R_w</th><th>R_Al</th></tr>\n",
        "<tr><td>MeV</td><td>MeV</td><td>cm</td><td>cm</td></tr>\n",
        "<tr><td>0.1</td><td>0.028</td><td>0.002</td><td>0.001</td></tr>\n",
        "<tr><td>1.0</td><td>0.796</td><td>0.309</td><td>0.146</td></tr>\n",
        "<tr><td>10.0</td><td>9.751</td><td>5.170</td><td>2.219</td></tr>\n",
        "</table>"
       ],
       "metadata": {},
       "output_type": "display_data",
       "text": [
        "<IPython.core.display.HTML at 0x3289c90>"
       ]
      }
     ],
     "prompt_number": 15
    },
    {
     "cell_type": "markdown",
     "metadata": {},
     "source": [
      "## Problem 3\n",
      "_Statement_:\n",
      "\n",
      "A fast reactor assembly consisting of a homogeneous mixture of $^{238}$U and sodium is to be made in the form of a bare sphere. The atom densities of these constituents are $$N_F = 0.00395 \\times 10^{-24}$$ cm$^{-3}$ and $$N_S = 0.0234\\times 10^{24}$$ cm$^{-3}$, respectively. Estimate the critical radius of the assembly. Discuss the result in comparison with the case when the assembly is made of $^{239}$Pu (as in Lamarsh example 6.3) instead of the uranium."
     ]
    },
    {
     "cell_type": "markdown",
     "metadata": {},
     "source": [
      "_Solution_:\n",
      "\n",
      "From the known composition, we aim to find the critical radius via \n",
      "\n",
      "$$\\tilde{R}_c = \\pi\\sqrt{\\cfrac{L^2}{k_\\infty-1}}$$\n",
      "\n",
      "In order to find $k_\\infty$, we need to find the absorption cross-sections. These are found from the micro x-secs in Table 6.1 of Lamarsh (in fact, all the data in this problem are from Table 6.1, so I'll just not mention it again).\n",
      "\n",
      "$$\\begin{align}\n",
      "\\Sigma_{aF} &= \\sigma_{aF}N_F\\\\\n",
      "\\Sigma_{aS} &= \\sigma_{aS}N_S\n",
      "\\end{align}$$\n",
      "\n",
      "Then $f = \\cfrac{\\Sigma_{aF}}{\\Sigma_{aS}+\\Sigma_{aF}}$. Which leads to $k_\\infty = \\eta f$.\n",
      "\n",
      "Now we find $L^2$ from $L^2 = \\frac{D}{\\Sigma_{a}}$, where $D = \\frac{1}{3\\Sigma_{tr}}$. The transport x-sec is also simply $\\Sigma_{tr} = \\sigma_{trF}N_F + \\sigma_{trS}N_S$.  By the way, we'll also calculate the displacement distance, $d = 2.13D$.\n",
      "\n",
      "With those calculations we can find the critical radius as given in the first equation."
     ]
    },
    {
     "cell_type": "code",
     "collapsed": false,
     "input": [
      "NF = 0.00395\n",
      "NS = 0.0234\n",
      "Sigma_aF = 0.255 * NF\n",
      "Sigma_aS = 0.0008 * NS\n",
      "Sigma_a = Sigma_aF + Sigma_aS\n",
      "Sigma_tr = 6.9*NF + 3.3*NS\n",
      "eta = 0.97\n",
      "\n",
      "f = Sigma_aF/Sigma_a\n",
      "k_infty = eta*f\n",
      "\n",
      "D = 1/(3.*Sigma_tr)\n",
      "d = 2.13*D\n",
      "Lsquared = D/Sigma_a\n",
      "\n",
      "tildeRc = pi*sqrt(Lsquared/(k_infty-1.))\n",
      "Rc = tildeRc-d\n",
      "\n",
      "print 'Critical radius = '+str(round(Rc,2))+' cm'"
     ],
     "language": "python",
     "metadata": {},
     "outputs": [
      {
       "output_type": "stream",
       "stream": "stdout",
       "text": [
        "Critical radius = nan cm\n"
       ]
      },
      {
       "output_type": "stream",
       "stream": "stderr",
       "text": [
        "-c:16: RuntimeWarning: invalid value encountered in sqrt\n"
       ]
      }
     ],
     "prompt_number": 16
    },
    {
     "cell_type": "markdown",
     "metadata": {},
     "source": [
      "Error! Error! With the materials used in this reactor, we're never going to get an infinite multiplication factor above unity. Which means even if we have an infinitely big reactor, we'll never get it critical. \n",
      "\n",
      "This is compared with the plutonium fuel used in Ex 6.3 of Lamarsh. In that, even if the fuel utilization was not unity, the neutron multiplication, $\\eta$ is so large that $k_\\infty$ is basically guaranteed to be super-critical. So from there, you can knock down the infinite multiplication factor to find a critical reactor of finite size. \n",
      "\n",
      "This actually demonstrates how you need certain neutron-multiplying fuels in your nuclear power generator or else you consume your neutrons and the thing never gets cookin'."
     ]
    },
    {
     "cell_type": "markdown",
     "metadata": {},
     "source": [
      "## Problem 4\n",
      "_Statement_:\n",
      "\n",
      "A spherical tank with a radius of 40 cm is filled with a homogeneous mixture of $^{235}$U and water. This mixture has a moderator-to-fuel ratio, $N^{H_2O}/N^{U}$ of 800. What is: a) $k_\\infty$ of the mixture, b) $k_\\text{eff}$ of the bare core, and c) What should be the radius of the tank to produce a critical configuration?\n",
      "\n",
      "Note: fully enriched uranium fuel, $\\epsilon p=1$. Also assume the water is composed only of $^1$H and $^{16}$O"
     ]
    },
    {
     "cell_type": "markdown",
     "metadata": {},
     "source": [
      "_Solution_:\n",
      "\n",
      "To find the infinite multiplication factor, we'll begin by finding the thermal utilization,\n",
      "\n",
      "$$\\begin{align}\n",
      "f &= \\cfrac{\\Sigma_{aF}}{\\Sigma_a}\\\\\n",
      "f & = \\cfrac{1}{1+\\Sigma_{a,H_2O}/\\Sigma_{a,U}}\n",
      "\\end{align}$$\n",
      "\n",
      "From the definition of cross-section (and atomic densities), we can also write this as\n",
      "\n",
      "$$\\begin{align}\n",
      "f & = \\cfrac{1}{1+\\frac{N^{H_2O}}{N^{U}}\\frac{\\sigma_{a,H_2O}}{\\sigma_{a,U}}}\n",
      "\\end{align}$$\n",
      "\n",
      "The thermal microscopic cross-sections for Uranium is $\\sigma_{a,U} = 591$ b (from E.E. Lewis, Fundamentals of Nuclear Reactor Physics). We know the fuel-to-moderator ratio. So we simply need to find the absorption cross-section of water based on its constituents.\n",
      "\n",
      "$$\\begin{align}\n",
      "\\sigma_{H_2O} &= 2\\sigma_a^H+\\sigma_a^O\\\\\n",
      "\\end{align}$$\n",
      "\n",
      "The microscopic cross-sections are also tabulated in Lewis as $\\sigma_{a,H} = 0.295$ b and $\\sigma_{a,O} = 1.69\\times10^{-4}$ b"
     ]
    },
    {
     "cell_type": "code",
     "collapsed": false,
     "input": [
      "sigma_aH = 0.295\n",
      "sigma_aO = (1.69e-4)\n",
      "\n",
      "sigmaaH2O = (2*sigma_aH + sigma_aO)\n",
      "sigmaaU = 591\n",
      "\n",
      "Z = (1/800.)*sigmaaU/sigmaaH2O\n",
      "\n",
      "f = Z/(Z+1.)\n",
      "\n",
      "print 'f = '+str(round(f,3))"
     ],
     "language": "python",
     "metadata": {},
     "outputs": [
      {
       "output_type": "stream",
       "stream": "stdout",
       "text": [
        "f = 0.556\n"
       ]
      }
     ],
     "prompt_number": 45
    },
    {
     "cell_type": "markdown",
     "metadata": {},
     "source": [
      "From the thermal utilization, we can directly find the infinite multiplication factor, $k_\\infty = \\eta f\\epsilon p$. We take $\\eta = 2.065$ from Table 6.3 in Lamarsh and take $\\epsilon p = 1$."
     ]
    },
    {
     "cell_type": "code",
     "collapsed": false,
     "input": [
      "eta = 2.065\n",
      "\n",
      "k_infty = eta*f\n",
      "\n",
      "print 'infinite multiplication factor: '+str(round(k_infty,3))"
     ],
     "language": "python",
     "metadata": {},
     "outputs": [
      {
       "output_type": "stream",
       "stream": "stdout",
       "text": [
        "infinite multiplication factor: 1.148\n"
       ]
      }
     ],
     "prompt_number": 46
    },
    {
     "cell_type": "markdown",
     "metadata": {},
     "source": [
      "B) with the infinite multiplication factor and knowing the geometry ($R=40$ cm), we can find the effective multiplication factor from\n",
      "\n",
      "$$k_\\text{eff} = k_\\infty P_TP_F$$\n",
      "\n",
      "where\n",
      "\n",
      "$$P_T = \\cfrac{1}{1+L_T^2B^2}$$\n",
      "\n",
      "and\n",
      "\n",
      "$$P_F = \\cfrac{1}{1+\\tau_TB^2}$$\n",
      "\n",
      "$$\\begin{align}\n",
      "L_T^2 &= (1-f)L_{T,H_2O}^2 \\\\\n",
      "B^2 &= \\left(\\cfrac{\\pi}{R}\\right)^2\n",
      "\\end{align}$$\n",
      "\n",
      "and the diffusion length for water is given in Tab 5.2 of Lamarsh as $L_{T,H_2O}^2 = 8.1$ cm$^2$. The thermal length is also given as $\\tau_T = 27$ cm$^2$."
     ]
    },
    {
     "cell_type": "code",
     "collapsed": false,
     "input": [
      "LtMsquared = 8.1 #cm2\n",
      "Ltsquared = (1-f)*LtMsquared\n",
      "R = 40 #cm\n",
      "Bsquared = (pi/R)**2.\n",
      "tau_TM = 27. # cm2\n",
      "\n",
      "Pt = 1./(1.+Ltsquared*Bsquared)\n",
      "Pf = 1./(1.+Bsquared*tau_TM)\n",
      "\n",
      "keff = k_infty*Pt*Pf\n",
      "\n",
      "print 'k_eff = '+str(round(keff,2))"
     ],
     "language": "python",
     "metadata": {},
     "outputs": [
      {
       "output_type": "stream",
       "stream": "stdout",
       "text": [
        "k_eff = 0.96\n"
       ]
      }
     ],
     "prompt_number": 47
    },
    {
     "cell_type": "markdown",
     "metadata": {},
     "source": [
      "This k value is slightly below critical. That indicates the reactor is slightly smaller than it needs to be. To make it critical, we can shrink the spherical radius."
     ]
    },
    {
     "cell_type": "markdown",
     "metadata": {},
     "source": [
      "C) If the reactor is critical, we can use the same equations to back out the buckling parameter to get the radius of the critical sphere. This would be\n",
      "\n",
      "$$ \\begin{align}\n",
      "1 &= k_\\infty \\frac{1}{1 + \\left(\\frac{\\pi}{R}\\right)^2 L_T^2}\\frac{1}{1 + \\left(\\frac{\\pi}{R}\\right)^2 \\tau_{TM}}\n",
      "\\end{align}$$\n",
      "\n",
      "I'll just solve this iteratively instead of with algebra. Knowing the radius should be in the range of $R\\in(30,100)$ cm (in fact, it's probably in a smaller range around 40 cm), I can make an array then find the point where the two sides are equal."
     ]
    },
    {
     "cell_type": "code",
     "collapsed": false,
     "input": [
      "R_crit = linspace(30,60,10001)\n",
      "j=0\n",
      "epsilon=zeros(len(R_crit))\n",
      "for i in R_crit:\n",
      "    LHS = 1.\n",
      "    RHS = k_infty*(1./(1.+(pi/i)**2.*Ltsquared))*(1./(1.+(pi/i)**2.*tau_TM))\n",
      "    \n",
      "    epsilon[j] = abs(LHS - RHS)\n",
      "    j+=1\n",
      "\n",
      "print 'Critical radius = '+str(round(R_crit[argmin(epsilon)],2))+' cm'"
     ],
     "language": "python",
     "metadata": {},
     "outputs": [
      {
       "output_type": "stream",
       "stream": "stdout",
       "text": [
        "Critical radius = 45.52 cm\n"
       ]
      }
     ],
     "prompt_number": 48
    },
    {
     "cell_type": "markdown",
     "metadata": {},
     "source": [
      "Which makes logical sense. We found that the $k_\\text{eff}$ for a 40 cm bare reactor was just barely subcritical, so a critical reactor ought to have a radius just larger than 40 cm. "
     ]
    },
    {
     "cell_type": "markdown",
     "metadata": {},
     "source": [
      "## Problem 5\n",
      "_Statement_:\n",
      "\n",
      "Consider two infinite, parallel plates at $x = \\pm d$ set to a potential of $\\phi = 0$. The space between them is uniformly filled by a gas of density $n$ of particles of charge $q$. \n",
      "\n",
      "A) Using Poisson's equation, show that the potential distribution between the plates is $$\\phi = \\cfrac{nq}{2\\epsilon_0}(d^2-x^2)$$\n",
      "\n",
      "B) Show that for $d>\\lambda_D$, the energy needed to transport a particle from a plate to the midplane is greater than the average kinetic energy of the particles."
     ]
    },
    {
     "cell_type": "markdown",
     "metadata": {},
     "source": [
      "_Solution_:\n",
      "\n",
      "A)\n",
      "Poisson's equation in one dimension, for this problem, is\n",
      "\n",
      "$$ \\cfrac{d^2\\phi}{dx^2} = -\\cfrac{nq}{\\epsilon_0} nq\u03f5_0$$\n",
      "\n",
      "With boundary conditions of\n",
      "\n",
      "$$\\begin{align}\n",
      "\\cfrac{\\rm{d}\\phi}{\\rm{d}x}\\big|_{x=0} &= 0\\\\\n",
      "\\phi\\big|_{x=\\pm d} &= 0\n",
      "\\end{align}$$\n",
      "\n",
      "The general solution to this linear, second-order ODE is simply \n",
      "\n",
      "$$\\phi = Ax^2+Bx+C$$\n",
      "\n",
      "The first BC gives $B=0$, the second BC gives $C = -Ad^2$. From Poisson's equation, we then have\n",
      "\n",
      "$$2A = -\\cfrac{nq}{\\epsilon} \\rightarrow A = -\\cfrac{nq}{2\\epsilon_0}$$\n",
      "\n",
      "Thus $C = \\cfrac{nqd^2}{2\\epsilon_0}$, and finally\n",
      "\n",
      "$$\\phi = \\cfrac{nqd^2}{2\\epsilon_0}\\left(1-\\frac{x^2}{d^2}\\right)$$\n",
      "Q.E.D."
     ]
    },
    {
     "cell_type": "markdown",
     "metadata": {},
     "source": [
      "B)\n",
      "\n",
      "The energy needed to move a particle from a plate to the midplane (${i.e.}$ $x=d\\rightarrow x=0$) is a change in potential energy of\n",
      "\n",
      "$$\\begin{align}\n",
      "\\Delta E &= q[\\phi(x=0)-\\phi(x=d)]\\\\\n",
      "& = q\\left[\\cfrac{nqd^2}{2\\epsilon_0}\\right]\n",
      "\\end{align}$$\n",
      "\n",
      "For comparison, the kinetic energy of a particle in one-dimension is\n",
      "\n",
      "$$ T_e = \\cfrac{1}{2}kT$$\n",
      "\n",
      "We'll compare this to the potential energy of moving a particle as far as the debye length. The debye length is also written as\n",
      "\n",
      "$$\\lambda_d^2 = \\frac{kT\\epsilon_0}{nq^2}$$\n",
      "\n",
      "If we plug this into the distance $d^2$ in the equation of changed potential energy, we have\n",
      "\n",
      "$$\\begin{align}\n",
      "\\Delta E &= \\cfrac{nq^2}{2\\epsilon_0}d^2\\\\\n",
      "& = \\cfrac{nq^2}{2\\epsilon_0}\\cfrac{kT\\epsilon_0}{nq^2}\\\\\n",
      "& = \\cfrac{1}{2}kT\n",
      "\\end{align}$$\n",
      "\n",
      "Which shows that the energy to move from the centerline to the edge is the same as the average kinetic energy (of a one-dimensional system). Therefore, if $d>\\lambda_d$ then $\\Delta E > T$ and we've shown that the energy needed to transport a particle from a plate to the midplane is greater than the average kinetic energy of the particles."
     ]
    }
   ],
   "metadata": {}
  }
 ]
}